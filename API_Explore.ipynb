{
 "cells": [
  {
   "cell_type": "code",
   "execution_count": 3,
   "metadata": {},
   "outputs": [],
   "source": [
    "import av\n",
    "import cv2\n",
    "import numpy as np\n",
    "import pandas as pd"
   ]
  },
  {
   "cell_type": "code",
   "execution_count": 15,
   "metadata": {},
   "outputs": [],
   "source": [
    "images_av = []\n",
    "images_cv2 = []\n"
   ]
  },
  {
   "cell_type": "code",
   "execution_count": 16,
   "metadata": {},
   "outputs": [
    {
     "name": "stdout",
     "output_type": "stream",
     "text": [
      "455 ms ± 29.9 ms per loop (mean ± std. dev. of 7 runs, 1 loop each)\n"
     ]
    }
   ],
   "source": [
    "%%timeit\n",
    "container = av.open(\"./videos/WUzgd7C1pWA.mp4\")\n",
    "for frame in container.decode(video=0):\n",
    "    images_av.append(frame.to_rgb().to_ndarray())\n",
    "\n"
   ]
  },
  {
   "cell_type": "code",
   "execution_count": 17,
   "metadata": {},
   "outputs": [
    {
     "name": "stdout",
     "output_type": "stream",
     "text": [
      "188 ms ± 24 ms per loop (mean ± std. dev. of 7 runs, 10 loops each)\n"
     ]
    }
   ],
   "source": [
    "%%timeit\n",
    "cap = cv2.VideoCapture(\"./videos/WUzgd7C1pWA.mp4\")\n",
    "while(cap.isOpened()):\n",
    "    ret, frame = cap.read()\n",
    "    if ret is True:\n",
    "        rgb = cv2.cvtColor(frame, cv2.COLOR_BGR2RGB)\n",
    "        images_cv2.append(frame)\n",
    "    else:\n",
    "        break\n",
    "cap.release()"
   ]
  },
  {
   "cell_type": "code",
   "execution_count": 18,
   "metadata": {},
   "outputs": [],
   "source": [
    "images_av = []\n",
    "images_cv2 = []\n",
    "container = av.open(\"./videos/WUzgd7C1pWA.mp4\")\n",
    "for frame in container.decode(video=0):\n",
    "    images_av.append(frame.to_rgb().to_ndarray())\n",
    "\n",
    "cap = cv2.VideoCapture(\"./videos/WUzgd7C1pWA.mp4\")\n",
    "while(cap.isOpened()):\n",
    "    ret, frame = cap.read()\n",
    "    if ret is True:\n",
    "        rgb = cv2.cvtColor(frame, cv2.COLOR_BGR2RGB)\n",
    "        images_cv2.append(frame)\n",
    "    else:\n",
    "        break\n",
    "cap.release()"
   ]
  },
  {
   "cell_type": "code",
   "execution_count": 19,
   "metadata": {},
   "outputs": [
    {
     "name": "stdout",
     "output_type": "stream",
     "text": [
      "327 327\n"
     ]
    }
   ],
   "source": [
    "\n",
    "print(len(images_av), len(images_cv2))"
   ]
  },
  {
   "cell_type": "code",
   "execution_count": 1,
   "metadata": {},
   "outputs": [],
   "source": [
    "import torchvision\n",
    "torchvision.set_video_backend(\"video_reader\")"
   ]
  },
  {
   "cell_type": "code",
   "execution_count": 2,
   "metadata": {},
   "outputs": [
    {
     "name": "stderr",
     "output_type": "stream",
     "text": [
      "/Users/bjuncek/bin/conda/envs/video_benchmark/lib/python3.7/site-packages/torchvision-0.8.0a0+9b80465-py3.7-macosx-10.9-x86_64.egg/torchvision/io/_video_opt.py:479: UserWarning: The pts_unit 'pts' gives wrong results and will be removed in a follow-up version. Please use pts_unit 'sec'.\n",
      "  \"The pts_unit 'pts' gives wrong results and will be removed in a \"\n"
     ]
    },
    {
     "data": {
      "text/plain": [
       "torch.Size([327, 256, 340, 3])"
      ]
     },
     "execution_count": 2,
     "metadata": {},
     "output_type": "execute_result"
    }
   ],
   "source": [
    "vframes, _, _ = torchvision.io.read_video(\"./videos/WUzgd7C1pWA.mp4\")\n",
    "vframes.size()"
   ]
  },
  {
   "cell_type": "markdown",
   "metadata": {},
   "source": [
    "# Simple measurement of python overhead"
   ]
  },
  {
   "cell_type": "code",
   "execution_count": 1,
   "metadata": {},
   "outputs": [],
   "source": [
    "# first, import torch\n",
    "import torch"
   ]
  },
  {
   "cell_type": "code",
   "execution_count": 2,
   "metadata": {},
   "outputs": [
    {
     "name": "stdout",
     "output_type": "stream",
     "text": [
      "70.4 ms ± 5.56 ms per loop (mean ± std. dev. of 7 runs, 10 loops each)\n"
     ]
    }
   ],
   "source": [
    "%%timeit\n",
    "# torch multitensor\n",
    "a = torch.zeros(1000, 3, 112, 112)"
   ]
  },
  {
   "cell_type": "code",
   "execution_count": 4,
   "metadata": {},
   "outputs": [
    {
     "name": "stdout",
     "output_type": "stream",
     "text": [
      "93 ms ± 11.5 ms per loop (mean ± std. dev. of 7 runs, 10 loops each)\n"
     ]
    }
   ],
   "source": [
    "%%timeit\n",
    "# for loop with array allocation\n",
    "test = []\n",
    "for i in range(1000):\n",
    "    test.append(torch.zeros(3, 112, 112))"
   ]
  },
  {
   "cell_type": "code",
   "execution_count": 5,
   "metadata": {},
   "outputs": [
    {
     "name": "stdout",
     "output_type": "stream",
     "text": [
      "179 ms ± 4.17 ms per loop (mean ± std. dev. of 7 runs, 10 loops each)\n"
     ]
    }
   ],
   "source": [
    "%%timeit\n",
    "# for loop with array allocation and stacking\n",
    "test = []\n",
    "for i in range(1000):\n",
    "    test.append(torch.zeros(3, 112, 112))\n",
    "a = torch.stack(test)\n"
   ]
  },
  {
   "cell_type": "markdown",
   "metadata": {},
   "source": [
    "## Exploring DECORD\n",
    "\n",
    "With GPU and CPU support (or at least I hope so)"
   ]
  },
  {
   "cell_type": "code",
   "execution_count": 33,
   "metadata": {},
   "outputs": [
    {
     "name": "stdout",
     "output_type": "stream",
     "text": [
      "Reference number of frames torch.Size([332, 256, 340, 3])\n"
     ]
    }
   ],
   "source": [
    "import torchvision\n",
    "torchvision.set_video_backend(\"video_reader\")\n",
    "vframes, _, _ = torchvision.io.read_video('videos/SOX5yA1l24A.mp4')\n",
    "print(\"Reference number of frames\", vframes.size())"
   ]
  },
  {
   "cell_type": "code",
   "execution_count": 34,
   "metadata": {},
   "outputs": [
    {
     "name": "stdout",
     "output_type": "stream",
     "text": [
      "Decord VR number of frames 332\n"
     ]
    }
   ],
   "source": [
    "from decord import VideoReader\n",
    "from decord import cpu\n",
    "import numpy as np\n",
    "vr = VideoReader('videos/SOX5yA1l24A.mp4', ctx=cpu(0))\n",
    "# a file like object works as well, for in-memory decoding\n",
    "nf = len(vr)\n",
    "# 1. the simplest way is to directly access frames\n",
    "print(\"Decord VR number of frames\", nf)"
   ]
  },
  {
   "cell_type": "code",
   "execution_count": 35,
   "metadata": {
    "scrolled": true
   },
   "outputs": [
    {
     "name": "stdout",
     "output_type": "stream",
     "text": [
      "Decord VR practical number of frames 332\n"
     ]
    }
   ],
   "source": [
    "frames = []\n",
    "for i in range(nf):\n",
    "    # the video reader will handle seeking and skipping in the most efficient manner\n",
    "    frames.append(vr[i])\n",
    "print(\"Decord VR practical number of frames\", len(frames))"
   ]
  },
  {
   "cell_type": "code",
   "execution_count": 36,
   "metadata": {},
   "outputs": [
    {
     "name": "stdout",
     "output_type": "stream",
     "text": [
      "Decord VR-batch practical number of frames 332\n"
     ]
    }
   ],
   "source": [
    "frames = vr.get_batch(range(nf))\n",
    "print(\"Decord VR-batch practical number of frames\", frames.shape[0])"
   ]
  },
  {
   "cell_type": "markdown",
   "metadata": {},
   "source": [
    "## Decord VideoLoader\n",
    "\n",
    "uris : list of str\n",
    "    List of video paths.\n",
    "ctx : decord.Context or list of Context\n",
    "    The context to decode the video file, can be decord.cpu() or decord.gpu().\n",
    "    If ctx is a list, videos will be evenly split over many ctxs.\n",
    "shape : tuple\n",
    "    Returned shape of the batch images, e.g., (2, 320, 240, 3) as (Batch, H, W, 3)\n",
    "interval : int\n",
    "    Intra-batch frame interval.\n",
    "skip : int\n",
    "    Inter-batch frame interval.\n",
    "shuffle : int\n",
    "    Shuffling strategy. Can be\n",
    "    `0`:  all sequential, no seeking, following initial filename order\n",
    "    `1`:  random filename order, no random access for each video, very efficient\n",
    "    `2`:  random order\n",
    "    `3`:  random frame access in each video only."
   ]
  },
  {
   "cell_type": "code",
   "execution_count": 44,
   "metadata": {},
   "outputs": [],
   "source": [
    "from decord import VideoLoader\n",
    "from decord import cpu"
   ]
  },
  {
   "cell_type": "code",
   "execution_count": 48,
   "metadata": {},
   "outputs": [
    {
     "name": "stdout",
     "output_type": "stream",
     "text": [
      "6\n"
     ]
    }
   ],
   "source": [
    "vr = VideoLoader(['videos/SOX5yA1l24A.mp4'], shape=(50, 256, 340, 3), ctx=cpu(0), interval=0, skip=0, shuffle=1)\n",
    "print(len(vr))"
   ]
  },
  {
   "cell_type": "code",
   "execution_count": 50,
   "metadata": {},
   "outputs": [
    {
     "ename": "AttributeError",
     "evalue": "'NDArray' object has no attribute 'tolist'",
     "output_type": "error",
     "traceback": [
      "\u001b[0;31m---------------------------------------------------------------------------\u001b[0m",
      "\u001b[0;31mAttributeError\u001b[0m                            Traceback (most recent call last)",
      "\u001b[0;32m<ipython-input-50-ea171cd1ed62>\u001b[0m in \u001b[0;36m<module>\u001b[0;34m\u001b[0m\n\u001b[1;32m      1\u001b[0m \u001b[0;32mfor\u001b[0m \u001b[0mi\u001b[0m \u001b[0;32min\u001b[0m \u001b[0mrange\u001b[0m\u001b[0;34m(\u001b[0m\u001b[0mlen\u001b[0m\u001b[0;34m(\u001b[0m\u001b[0mvr\u001b[0m\u001b[0;34m)\u001b[0m\u001b[0;34m)\u001b[0m\u001b[0;34m:\u001b[0m\u001b[0;34m\u001b[0m\u001b[0;34m\u001b[0m\u001b[0m\n\u001b[1;32m      2\u001b[0m     \u001b[0mframes\u001b[0m\u001b[0;34m,\u001b[0m \u001b[0midx\u001b[0m \u001b[0;34m=\u001b[0m \u001b[0mvr\u001b[0m\u001b[0;34m.\u001b[0m\u001b[0mnext\u001b[0m\u001b[0;34m(\u001b[0m\u001b[0;34m)\u001b[0m\u001b[0;34m\u001b[0m\u001b[0;34m\u001b[0m\u001b[0m\n\u001b[0;32m----> 3\u001b[0;31m     \u001b[0mprint\u001b[0m\u001b[0;34m(\u001b[0m\u001b[0midx\u001b[0m\u001b[0;34m.\u001b[0m\u001b[0mtolist\u001b[0m\u001b[0;34m(\u001b[0m\u001b[0;34m)\u001b[0m\u001b[0;34m)\u001b[0m\u001b[0;34m\u001b[0m\u001b[0;34m\u001b[0m\u001b[0m\n\u001b[0m",
      "\u001b[0;31mAttributeError\u001b[0m: 'NDArray' object has no attribute 'tolist'"
     ]
    }
   ],
   "source": [
    "for i in range(len(vr)):\n",
    "    frames, idx = vr.next()\n"
   ]
  },
  {
   "cell_type": "code",
   "execution_count": 53,
   "metadata": {},
   "outputs": [
    {
     "data": {
      "text/plain": [
       "6.0"
      ]
     },
     "execution_count": 53,
     "metadata": {},
     "output_type": "execute_result"
    }
   ],
   "source": [
    "a = [3, 9]\n",
    "np.mean(a)"
   ]
  },
  {
   "cell_type": "markdown",
   "metadata": {},
   "source": [
    "# Testing for API"
   ]
  },
  {
   "cell_type": "code",
   "execution_count": 96,
   "metadata": {},
   "outputs": [],
   "source": [
    "import av\n",
    "container = av.open('videos/SOX5yA1l24A.mp4')"
   ]
  },
  {
   "cell_type": "code",
   "execution_count": 74,
   "metadata": {},
   "outputs": [
    {
     "name": "stdout",
     "output_type": "stream",
     "text": [
      "['video', 'audio']\n"
     ]
    }
   ],
   "source": [
    "print([x.type for x in list(container.streams)])"
   ]
  },
  {
   "cell_type": "code",
   "execution_count": 138,
   "metadata": {},
   "outputs": [
    {
     "ename": "EOFError",
     "evalue": "[Errno 541478725] End of file",
     "output_type": "error",
     "traceback": [
      "\u001b[0;31m---------------------------------------------------------------------------\u001b[0m",
      "\u001b[0;31mEOFError\u001b[0m                                  Traceback (most recent call last)",
      "\u001b[0;32m<ipython-input-138-47561843321d>\u001b[0m in \u001b[0;36m<module>\u001b[0;34m\u001b[0m\n\u001b[0;32m----> 1\u001b[0;31m \u001b[0mcontainer\u001b[0m\u001b[0;34m.\u001b[0m\u001b[0mdecode\u001b[0m\u001b[0;34m(\u001b[0m\u001b[0mcontainer\u001b[0m\u001b[0;34m.\u001b[0m\u001b[0mstreams\u001b[0m\u001b[0;34m.\u001b[0m\u001b[0mvideo\u001b[0m\u001b[0;34m)\u001b[0m\u001b[0;34m.\u001b[0m\u001b[0m__next__\u001b[0m\u001b[0;34m(\u001b[0m\u001b[0;34m)\u001b[0m\u001b[0;34m\u001b[0m\u001b[0;34m\u001b[0m\u001b[0m\n\u001b[0m\u001b[1;32m      2\u001b[0m \u001b[0;34m\u001b[0m\u001b[0m\n",
      "\u001b[0;32mav/container/input.pyx\u001b[0m in \u001b[0;36mdecode\u001b[0;34m()\u001b[0m\n",
      "\u001b[0;32mav/packet.pyx\u001b[0m in \u001b[0;36mav.packet.Packet.decode\u001b[0;34m()\u001b[0m\n",
      "\u001b[0;32mav/stream.pyx\u001b[0m in \u001b[0;36mav.stream.Stream.decode\u001b[0;34m()\u001b[0m\n",
      "\u001b[0;32mav/codec/context.pyx\u001b[0m in \u001b[0;36mav.codec.context.CodecContext.decode\u001b[0;34m()\u001b[0m\n",
      "\u001b[0;32mav/codec/context.pyx\u001b[0m in \u001b[0;36mav.codec.context.CodecContext._send_packet_and_recv\u001b[0;34m()\u001b[0m\n",
      "\u001b[0;32mav/error.pyx\u001b[0m in \u001b[0;36mav.error.err_check\u001b[0;34m()\u001b[0m\n",
      "\u001b[0;31mEOFError\u001b[0m: [Errno 541478725] End of file"
     ]
    }
   ],
   "source": [
    "container.decode(container.streams.video).__next__()\n",
    "    "
   ]
  },
  {
   "cell_type": "code",
   "execution_count": 125,
   "metadata": {},
   "outputs": [],
   "source": [
    "for frame in container.decode(container.streams.audio[0]):\n",
    "    print(frame.pts)\n",
    "    "
   ]
  },
  {
   "cell_type": "code",
   "execution_count": 139,
   "metadata": {},
   "outputs": [],
   "source": [
    "container.seek(200000, stream=container.streams.audio[0])"
   ]
  },
  {
   "cell_type": "code",
   "execution_count": 141,
   "metadata": {},
   "outputs": [
    {
     "ename": "AttributeError",
     "evalue": "pts",
     "output_type": "error",
     "traceback": [
      "\u001b[0;31m---------------------------------------------------------------------------\u001b[0m",
      "\u001b[0;31mAttributeError\u001b[0m                            Traceback (most recent call last)",
      "\u001b[0;32mav/stream.pyx\u001b[0m in \u001b[0;36mav.stream.Stream.__getattr__\u001b[0;34m()\u001b[0m\n",
      "\u001b[0;31mAttributeError\u001b[0m: 'av.audio.codeccontext.AudioCodecContext' object has no attribute 'pts'",
      "\nDuring handling of the above exception, another exception occurred:\n",
      "\u001b[0;31mAttributeError\u001b[0m                            Traceback (most recent call last)",
      "\u001b[0;32mav/stream.pyx\u001b[0m in \u001b[0;36mav.stream.Stream.__getattr__\u001b[0;34m()\u001b[0m\n",
      "\u001b[0;31mAttributeError\u001b[0m: 'av.codec.codec.Codec' object has no attribute 'pts'",
      "\nDuring handling of the above exception, another exception occurred:\n",
      "\u001b[0;31mAttributeError\u001b[0m                            Traceback (most recent call last)",
      "\u001b[0;32m<ipython-input-141-3a68751b12d0>\u001b[0m in \u001b[0;36m<module>\u001b[0;34m\u001b[0m\n\u001b[0;32m----> 1\u001b[0;31m \u001b[0mprint\u001b[0m\u001b[0;34m(\u001b[0m\u001b[0mcontainer\u001b[0m\u001b[0;34m.\u001b[0m\u001b[0mstreams\u001b[0m\u001b[0;34m.\u001b[0m\u001b[0maudio\u001b[0m\u001b[0;34m[\u001b[0m\u001b[0;36m0\u001b[0m\u001b[0;34m]\u001b[0m\u001b[0;34m.\u001b[0m\u001b[0mpts\u001b[0m\u001b[0;34m)\u001b[0m\u001b[0;34m\u001b[0m\u001b[0;34m\u001b[0m\u001b[0m\n\u001b[0m",
      "\u001b[0;32mav/stream.pyx\u001b[0m in \u001b[0;36mav.stream.Stream.__getattr__\u001b[0;34m()\u001b[0m\n",
      "\u001b[0;31mAttributeError\u001b[0m: pts"
     ]
    }
   ],
   "source": [
    "print(container.streams.audio[0].pts)"
   ]
  },
  {
   "cell_type": "code",
   "execution_count": 115,
   "metadata": {},
   "outputs": [],
   "source": [
    "container.seek(516096, stream=container.streams.video[0])"
   ]
  },
  {
   "cell_type": "code",
   "execution_count": 93,
   "metadata": {},
   "outputs": [
    {
     "name": "stdout",
     "output_type": "stream",
     "text": [
      "[2048, 3072, 4096, 5120, 6144, 7168, 8192, 9216, 10240, 11264, 12288, 13312, 14336, 15360, 16384, 17408, 18432, 19456, 20480, 21504, 22528, 23552, 24576, 25600, 26624, 27648, 28672, 29696, 30720, 31744, 32768, 33792, 34816, 35840, 36864, 37888, 38912, 39936, 40960, 41984, 43008, 44032, 45056, 46080, 47104, 48128, 49152, 50176, 51200, 52224, 53248, 54272, 55296, 56320, 57344, 58368, 59392, 60416, 61440, 62464, 63488, 64512, 65536, 66560, 67584, 68608, 69632, 70656, 71680, 72704, 73728, 74752, 75776, 76800, 77824, 78848, 79872, 80896, 81920, 82944, 83968, 84992, 86016, 87040, 88064, 89088, 90112, 91136, 92160, 93184, 94208, 95232, 96256, 97280, 98304, 99328, 100352, 101376, 102400, 103424, 104448, 105472, 106496, 107520, 108544, 109568, 110592, 111616, 112640, 113664, 114688, 115712, 116736, 117760, 118784, 119808, 120832, 121856, 122880, 123904, 124928, 125952, 126976, 128000, 129024, 130048, 131072, 132096, 133120, 134144, 135168, 136192, 137216, 138240, 139264, 140288, 141312, 142336, 143360, 144384, 145408, 146432, 147456, 148480, 149504, 150528, 151552, 152576, 153600, 154624, 155648, 156672, 157696, 158720, 159744, 160768, 161792, 162816, 163840, 164864, 165888, 166912, 167936, 168960, 169984, 171008, 172032, 173056, 174080, 175104, 176128, 177152, 178176, 179200, 180224, 181248, 182272, 183296, 184320, 185344, 186368, 187392, 188416, 189440, 190464, 191488, 192512, 193536, 194560, 195584, 196608, 197632, 198656, 199680, 200704, 201728, 202752, 203776, 204800, 205824, 206848, 207872, 208896, 209920, 210944, 211968, 212992, 214016, 215040, 216064, 217088, 138138, 218112, 219136, 220160, 221184, 222208, 223232, 224256, 225280, 226304, 227328, 228352, 229376, 230400, 231424, 232448, 233472, 234496, 235520, 236544, 237568, 238592, 239616, 240640, 241664, 242688, 243712, 244736, 245760, 246784, 247808, 248832, 249856, 250880, 251904, 252928, 253952, 254976, 256000, 257024, 258048, 259072, 260096, 261120, 262144, 263168, 264192, 265216, 266240, 267264, 268288, 269312, 270336, 271360, 272384, 273408, 274432, 275456, 276480, 277504, 278528, 279552, 280576, 281600, 282624, 283648, 284672, 285696, 286720, 287744, 288768, 289792, 290816, 291840, 292864, 293888, 294912, 295936, 296960, 297984, 299008, 300032, 301056, 302080, 303104, 304128, 305152, 306176, 307200, 308224, 309248, 310272, 311296, 312320, 313344, 314368, 315392, 316416, 317440, 318464, 319488, 320512, 321536, 322560, 323584, 324608, 325632, 326656, 327680, 328704, 329728, 330752, 331776, 332800, 333824, 334848, 335872, 336896, 337920, 338944, 339968, 340992, 342016, 343040, 344064, 345088, 346112, 347136, 219219, 348160, 349184, 350208, 351232, 352256, 353280, 354304, 355328, 356352, 357376, 358400, 359424, 360448, 361472, 362496, 363520, 364544, 365568, 366592, 367616, 368640, 369664, 370688, 371712, 372736, 373760, 374784, 375808, 376832, 377856, 378880, 379904, 380928, 381952, 382976, 384000, 385024, 386048, 387072, 388096, 389120, 390144, 391168, 392192, 393216, 394240, 395264, 396288, 397312, 398336, 399360, 400384, 401408, 402432, 403456, 404480, 405504, 406528, 407552, 408576, 409600, 410624, 411648, 412672, 413696, 414720, 415744, 416768, 417792, 418816, 419840, 420864, 421888, 422912, 423936, 424960, 425984, 427008, 428032, 429056, 430080, 431104, 432128, 433152, 434176, 435200, 436224, 437248, 438272, 439296, 440320, 441344, 442368, 443392, 444416, 445440, 446464, 447488, 448512, 449536, 450560, 451584, 452608, 453632, 454656, 455680, 456704, 457728, 458752, 459776, 460800, 461824, 462848, 463872, 292292, 464896, 465920, 466944, 467968, 468992, 470016, 471040, 472064, 473088, 474112, 475136, 476160, 477184, 478208, 479232, 480256, 481280, 482304, 483328, 484352, 485376, 486400, 487424, 488448, 489472, 490496, 491520, 492544, 493568, 494592, 495616, 496640, 497664, 498688, 499712, 500736, 501760, 502784, 503808, 504832, 505856, 506880, 507904, 508928, 509952, 510976, 512000, 513024, 514048, 515072, 516096, 517120, 518144, 519168, 520192, 521216, 522240, 523264, 524288, 525312, 526336, 527360, 528384, 529408, 530432]\n"
     ]
    }
   ],
   "source": [
    "keyframes = []\n",
    "for packet in container.demux():\n",
    "    if packet.is_keyframe:\n",
    "        keyframes.append(packet.pts)\n",
    "print(keyframes)"
   ]
  },
  {
   "cell_type": "code",
   "execution_count": 134,
   "metadata": {},
   "outputs": [],
   "source": [
    "import math\n",
    "def _sec_to_stream(ts, stream):\n",
    "    return int(math.floor(ts * (1 / stream.time_base)))\n",
    "\n",
    "def _stream_to_sec(pts, stream):\n",
    "    return float(pts * stream.time_base)"
   ]
  },
  {
   "cell_type": "code",
   "execution_count": 136,
   "metadata": {},
   "outputs": [
    {
     "data": {
      "text/plain": [
       "960000"
      ]
     },
     "execution_count": 136,
     "metadata": {},
     "output_type": "execute_result"
    }
   ],
   "source": [
    "_sec_to_stream(20, container.streams.audio[0])"
   ]
  },
  {
   "cell_type": "code",
   "execution_count": 135,
   "metadata": {},
   "outputs": [
    {
     "data": {
      "text/plain": [
       "20.0"
      ]
     },
     "execution_count": 135,
     "metadata": {},
     "output_type": "execute_result"
    }
   ],
   "source": [
    "_stream_to_sec(600000, container.streams.video[0])"
   ]
  },
  {
   "cell_type": "code",
   "execution_count": null,
   "metadata": {},
   "outputs": [],
   "source": []
  }
 ],
 "metadata": {
  "kernelspec": {
   "display_name": "Python 3",
   "language": "python",
   "name": "python3"
  },
  "language_info": {
   "codemirror_mode": {
    "name": "ipython",
    "version": 3
   },
   "file_extension": ".py",
   "mimetype": "text/x-python",
   "name": "python",
   "nbconvert_exporter": "python",
   "pygments_lexer": "ipython3",
   "version": "3.7.6"
  }
 },
 "nbformat": 4,
 "nbformat_minor": 4
}
