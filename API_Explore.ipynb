{
 "cells": [
  {
   "cell_type": "code",
   "execution_count": 4,
   "metadata": {},
   "outputs": [],
   "source": [
    "import av\n",
    "import cv2\n",
    "import numpy as np\n",
    "import pandas as pd"
   ]
  },
  {
   "cell_type": "code",
   "execution_count": 5,
   "metadata": {},
   "outputs": [],
   "source": [
    "images_av = []\n",
    "images_cv2 = []\n"
   ]
  },
  {
   "cell_type": "code",
   "execution_count": 20,
   "metadata": {},
   "outputs": [
    {
     "data": {
      "text/plain": [
       "2154.418"
      ]
     },
     "execution_count": 20,
     "metadata": {},
     "output_type": "execute_result"
    }
   ],
   "source": [
    "import av\n",
    "\n",
    "container = av.open('/work/bjuncek/AVA_actions/data/train/_145Aa_xkuE.mp4')\n",
    "float(container.duration / av.time_base)\n"
   ]
  },
  {
   "cell_type": "code",
   "execution_count": 26,
   "metadata": {},
   "outputs": [
    {
     "name": "stdout",
     "output_type": "stream",
     "text": [
      "2154.417052154195 2154.36\n"
     ]
    }
   ],
   "source": [
    "print(float(container.streams.audio[0].duration * container.streams.audio[0].time_base), float(container.streams.video[0].duration * container.streams.video[0].time_base))"
   ]
  },
  {
   "cell_type": "code",
   "execution_count": 27,
   "metadata": {},
   "outputs": [
    {
     "data": {
      "text/plain": [
       "<av.container.streams.StreamContainer at 0x7f08322e6c90>"
      ]
     },
     "execution_count": 27,
     "metadata": {},
     "output_type": "execute_result"
    }
   ],
   "source": [
    "container.streams"
   ]
  },
  {
   "cell_type": "code",
   "execution_count": 17,
   "metadata": {},
   "outputs": [
    {
     "name": "stdout",
     "output_type": "stream",
     "text": [
      "188 ms ± 24 ms per loop (mean ± std. dev. of 7 runs, 10 loops each)\n"
     ]
    }
   ],
   "source": [
    "%%timeit\n",
    "cap = cv2.VideoCapture(\"./videos/WUzgd7C1pWA.mp4\")\n",
    "while(cap.isOpened()):\n",
    "    ret, frame = cap.read()\n",
    "    if ret is True:\n",
    "        rgb = cv2.cvtColor(frame, cv2.COLOR_BGR2RGB)\n",
    "        images_cv2.append(frame)\n",
    "    else:\n",
    "        break\n",
    "cap.release()"
   ]
  },
  {
   "cell_type": "code",
   "execution_count": 18,
   "metadata": {},
   "outputs": [],
   "source": [
    "images_av = []\n",
    "images_cv2 = []\n",
    "container = av.open(\"./videos/WUzgd7C1pWA.mp4\")\n",
    "for frame in container.decode(video=0):\n",
    "    images_av.append(frame.to_rgb().to_ndarray())\n",
    "\n",
    "cap = cv2.VideoCapture(\"./videos/WUzgd7C1pWA.mp4\")\n",
    "while(cap.isOpened()):\n",
    "    ret, frame = cap.read()\n",
    "    if ret is True:\n",
    "        rgb = cv2.cvtColor(frame, cv2.COLOR_BGR2RGB)\n",
    "        images_cv2.append(frame)\n",
    "    else:\n",
    "        break\n",
    "cap.release()"
   ]
  },
  {
   "cell_type": "code",
   "execution_count": 19,
   "metadata": {},
   "outputs": [
    {
     "name": "stdout",
     "output_type": "stream",
     "text": [
      "327 327\n"
     ]
    }
   ],
   "source": [
    "\n",
    "print(len(images_av), len(images_cv2))"
   ]
  },
  {
   "cell_type": "code",
   "execution_count": 1,
   "metadata": {},
   "outputs": [],
   "source": [
    "import torchvision\n",
    "torchvision.set_video_backend(\"video_reader\")"
   ]
  },
  {
   "cell_type": "code",
   "execution_count": 2,
   "metadata": {},
   "outputs": [
    {
     "name": "stderr",
     "output_type": "stream",
     "text": [
      "/Users/bjuncek/bin/conda/envs/video_benchmark/lib/python3.7/site-packages/torchvision-0.8.0a0+9b80465-py3.7-macosx-10.9-x86_64.egg/torchvision/io/_video_opt.py:479: UserWarning: The pts_unit 'pts' gives wrong results and will be removed in a follow-up version. Please use pts_unit 'sec'.\n",
      "  \"The pts_unit 'pts' gives wrong results and will be removed in a \"\n"
     ]
    },
    {
     "data": {
      "text/plain": [
       "torch.Size([327, 256, 340, 3])"
      ]
     },
     "execution_count": 2,
     "metadata": {},
     "output_type": "execute_result"
    }
   ],
   "source": [
    "vframes, _, _ = torchvision.io.read_video(\"./videos/WUzgd7C1pWA.mp4\")\n",
    "vframes.size()"
   ]
  },
  {
   "cell_type": "markdown",
   "metadata": {},
   "source": [
    "# Simple measurement of python overhead"
   ]
  },
  {
   "cell_type": "code",
   "execution_count": 1,
   "metadata": {},
   "outputs": [],
   "source": [
    "# first, import torch\n",
    "import torch"
   ]
  },
  {
   "cell_type": "code",
   "execution_count": 2,
   "metadata": {},
   "outputs": [
    {
     "name": "stdout",
     "output_type": "stream",
     "text": [
      "70.4 ms ± 5.56 ms per loop (mean ± std. dev. of 7 runs, 10 loops each)\n"
     ]
    }
   ],
   "source": [
    "%%timeit\n",
    "# torch multitensor\n",
    "a = torch.zeros(1000, 3, 112, 112)"
   ]
  },
  {
   "cell_type": "code",
   "execution_count": 4,
   "metadata": {},
   "outputs": [
    {
     "name": "stdout",
     "output_type": "stream",
     "text": [
      "93 ms ± 11.5 ms per loop (mean ± std. dev. of 7 runs, 10 loops each)\n"
     ]
    }
   ],
   "source": [
    "%%timeit\n",
    "# for loop with array allocation\n",
    "test = []\n",
    "for i in range(1000):\n",
    "    test.append(torch.zeros(3, 112, 112))"
   ]
  },
  {
   "cell_type": "code",
   "execution_count": 5,
   "metadata": {},
   "outputs": [
    {
     "name": "stdout",
     "output_type": "stream",
     "text": [
      "179 ms ± 4.17 ms per loop (mean ± std. dev. of 7 runs, 10 loops each)\n"
     ]
    }
   ],
   "source": [
    "%%timeit\n",
    "# for loop with array allocation and stacking\n",
    "test = []\n",
    "for i in range(1000):\n",
    "    test.append(torch.zeros(3, 112, 112))\n",
    "a = torch.stack(test)\n"
   ]
  },
  {
   "cell_type": "markdown",
   "metadata": {},
   "source": [
    "## Exploring DECORD\n",
    "\n",
    "With GPU and CPU support (or at least I hope so)"
   ]
  },
  {
   "cell_type": "code",
   "execution_count": 8,
   "metadata": {},
   "outputs": [
    {
     "name": "stderr",
     "output_type": "stream",
     "text": [
      "/home/bjuncek/miniconda3/envs/tv08/lib/python3.7/site-packages/torchvision-0.8.0a0+344603-py3.7-linux-x86_64.egg/torchvision/io/_video_opt.py:479: UserWarning: The pts_unit 'pts' gives wrong results and will be removed in a follow-up version. Please use pts_unit 'sec'.\n",
      "  \"The pts_unit 'pts' gives wrong results and will be removed in a \"\n"
     ]
    },
    {
     "ename": "RuntimeError",
     "evalue": "[enforce fail at CPUAllocator.cpp:64] . DefaultCPUAllocator: can't allocate memory: you tried to allocate 104530636800 bytes. Error code 12 (Cannot allocate memory)",
     "output_type": "error",
     "traceback": [
      "\u001b[0;31m---------------------------------------------------------------------------\u001b[0m",
      "\u001b[0;31mRuntimeError\u001b[0m                              Traceback (most recent call last)",
      "\u001b[0;32m<ipython-input-8-a3d2f147742f>\u001b[0m in \u001b[0;36m<module>\u001b[0;34m\u001b[0m\n\u001b[1;32m      1\u001b[0m \u001b[0;32mimport\u001b[0m \u001b[0mtorchvision\u001b[0m\u001b[0;34m\u001b[0m\u001b[0;34m\u001b[0m\u001b[0m\n\u001b[1;32m      2\u001b[0m \u001b[0mtorchvision\u001b[0m\u001b[0;34m.\u001b[0m\u001b[0mset_video_backend\u001b[0m\u001b[0;34m(\u001b[0m\u001b[0;34m\"video_reader\"\u001b[0m\u001b[0;34m)\u001b[0m\u001b[0;34m\u001b[0m\u001b[0;34m\u001b[0m\u001b[0m\n\u001b[0;32m----> 3\u001b[0;31m \u001b[0mvframes\u001b[0m\u001b[0;34m,\u001b[0m \u001b[0m_\u001b[0m\u001b[0;34m,\u001b[0m \u001b[0m_\u001b[0m \u001b[0;34m=\u001b[0m \u001b[0mtorchvision\u001b[0m\u001b[0;34m.\u001b[0m\u001b[0mio\u001b[0m\u001b[0;34m.\u001b[0m\u001b[0mread_video\u001b[0m\u001b[0;34m(\u001b[0m\u001b[0;34m'/work/bjuncek/AVA_actions/data/train/2FIHxnZKg6A.webm'\u001b[0m\u001b[0;34m)\u001b[0m\u001b[0;34m\u001b[0m\u001b[0;34m\u001b[0m\u001b[0m\n\u001b[0m\u001b[1;32m      4\u001b[0m \u001b[0mprint\u001b[0m\u001b[0;34m(\u001b[0m\u001b[0;34m\"Reference number of frames\"\u001b[0m\u001b[0;34m,\u001b[0m \u001b[0mvframes\u001b[0m\u001b[0;34m.\u001b[0m\u001b[0msize\u001b[0m\u001b[0;34m(\u001b[0m\u001b[0;34m)\u001b[0m\u001b[0;34m)\u001b[0m\u001b[0;34m\u001b[0m\u001b[0;34m\u001b[0m\u001b[0m\n",
      "\u001b[0;32m~/miniconda3/envs/tv08/lib/python3.7/site-packages/torchvision-0.8.0a0+344603-py3.7-linux-x86_64.egg/torchvision/io/video.py\u001b[0m in \u001b[0;36mread_video\u001b[0;34m(filename, start_pts, end_pts, pts_unit)\u001b[0m\n\u001b[1;32m    213\u001b[0m \u001b[0;34m\u001b[0m\u001b[0m\n\u001b[1;32m    214\u001b[0m     \u001b[0;32mif\u001b[0m \u001b[0mget_video_backend\u001b[0m\u001b[0;34m(\u001b[0m\u001b[0;34m)\u001b[0m \u001b[0;34m!=\u001b[0m \u001b[0;34m\"pyav\"\u001b[0m\u001b[0;34m:\u001b[0m\u001b[0;34m\u001b[0m\u001b[0;34m\u001b[0m\u001b[0m\n\u001b[0;32m--> 215\u001b[0;31m         \u001b[0;32mreturn\u001b[0m \u001b[0m_video_opt\u001b[0m\u001b[0;34m.\u001b[0m\u001b[0m_read_video\u001b[0m\u001b[0;34m(\u001b[0m\u001b[0mfilename\u001b[0m\u001b[0;34m,\u001b[0m \u001b[0mstart_pts\u001b[0m\u001b[0;34m,\u001b[0m \u001b[0mend_pts\u001b[0m\u001b[0;34m,\u001b[0m \u001b[0mpts_unit\u001b[0m\u001b[0;34m)\u001b[0m\u001b[0;34m\u001b[0m\u001b[0;34m\u001b[0m\u001b[0m\n\u001b[0m\u001b[1;32m    216\u001b[0m \u001b[0;34m\u001b[0m\u001b[0m\n\u001b[1;32m    217\u001b[0m     \u001b[0m_check_av_available\u001b[0m\u001b[0;34m(\u001b[0m\u001b[0;34m)\u001b[0m\u001b[0;34m\u001b[0m\u001b[0;34m\u001b[0m\u001b[0m\n",
      "\u001b[0;32m~/miniconda3/envs/tv08/lib/python3.7/site-packages/torchvision-0.8.0a0+344603-py3.7-linux-x86_64.egg/torchvision/io/_video_opt.py\u001b[0m in \u001b[0;36m_read_video\u001b[0;34m(filename, start_pts, end_pts, pts_unit)\u001b[0m\n\u001b[1;32m    520\u001b[0m         \u001b[0mread_audio_stream\u001b[0m\u001b[0;34m=\u001b[0m\u001b[0;32mTrue\u001b[0m\u001b[0;34m,\u001b[0m\u001b[0;34m\u001b[0m\u001b[0;34m\u001b[0m\u001b[0m\n\u001b[1;32m    521\u001b[0m         \u001b[0maudio_pts_range\u001b[0m\u001b[0;34m=\u001b[0m\u001b[0maudio_pts_range\u001b[0m\u001b[0;34m,\u001b[0m\u001b[0;34m\u001b[0m\u001b[0;34m\u001b[0m\u001b[0m\n\u001b[0;32m--> 522\u001b[0;31m         \u001b[0maudio_timebase\u001b[0m\u001b[0;34m=\u001b[0m\u001b[0maudio_timebase\u001b[0m\u001b[0;34m,\u001b[0m\u001b[0;34m\u001b[0m\u001b[0;34m\u001b[0m\u001b[0m\n\u001b[0m\u001b[1;32m    523\u001b[0m     )\n\u001b[1;32m    524\u001b[0m     \u001b[0m_info\u001b[0m \u001b[0;34m=\u001b[0m \u001b[0;34m{\u001b[0m\u001b[0;34m}\u001b[0m\u001b[0;34m\u001b[0m\u001b[0;34m\u001b[0m\u001b[0m\n",
      "\u001b[0;32m~/miniconda3/envs/tv08/lib/python3.7/site-packages/torchvision-0.8.0a0+344603-py3.7-linux-x86_64.egg/torchvision/io/_video_opt.py\u001b[0m in \u001b[0;36m_read_video_from_file\u001b[0;34m(filename, seek_frame_margin, read_video_stream, video_width, video_height, video_min_dimension, video_max_dimension, video_pts_range, video_timebase, read_audio_stream, audio_samples, audio_channels, audio_pts_range, audio_timebase)\u001b[0m\n\u001b[1;32m    240\u001b[0m         \u001b[0maudio_pts_range\u001b[0m\u001b[0;34m[\u001b[0m\u001b[0;36m1\u001b[0m\u001b[0;34m]\u001b[0m\u001b[0;34m,\u001b[0m\u001b[0;34m\u001b[0m\u001b[0;34m\u001b[0m\u001b[0m\n\u001b[1;32m    241\u001b[0m         \u001b[0maudio_timebase\u001b[0m\u001b[0;34m.\u001b[0m\u001b[0mnumerator\u001b[0m\u001b[0;34m,\u001b[0m\u001b[0;34m\u001b[0m\u001b[0;34m\u001b[0m\u001b[0m\n\u001b[0;32m--> 242\u001b[0;31m         \u001b[0maudio_timebase\u001b[0m\u001b[0;34m.\u001b[0m\u001b[0mdenominator\u001b[0m\u001b[0;34m,\u001b[0m\u001b[0;34m\u001b[0m\u001b[0;34m\u001b[0m\u001b[0m\n\u001b[0m\u001b[1;32m    243\u001b[0m     )\n\u001b[1;32m    244\u001b[0m     \u001b[0mvframes\u001b[0m\u001b[0;34m,\u001b[0m \u001b[0m_vframe_pts\u001b[0m\u001b[0;34m,\u001b[0m \u001b[0mvtimebase\u001b[0m\u001b[0;34m,\u001b[0m \u001b[0mvfps\u001b[0m\u001b[0;34m,\u001b[0m \u001b[0mvduration\u001b[0m\u001b[0;34m,\u001b[0m\u001b[0;31m \u001b[0m\u001b[0;31m\\\u001b[0m\u001b[0;34m\u001b[0m\u001b[0;34m\u001b[0m\u001b[0m\n",
      "\u001b[0;31mRuntimeError\u001b[0m: [enforce fail at CPUAllocator.cpp:64] . DefaultCPUAllocator: can't allocate memory: you tried to allocate 104530636800 bytes. Error code 12 (Cannot allocate memory)"
     ]
    }
   ],
   "source": [
    "import torchvision\n",
    "torchvision.set_video_backend(\"video_reader\")\n",
    "vframes, _, _ = torchvision.io.read_video('/work/bjuncek/AVA_actions/data/train/2FIHxnZKg6A.webm')\n",
    "print(\"Reference number of frames\", vframes.size())"
   ]
  },
  {
   "cell_type": "code",
   "execution_count": 13,
   "metadata": {},
   "outputs": [
    {
     "name": "stdout",
     "output_type": "stream",
     "text": [
      "Decord VR number of frames 122228\n"
     ]
    }
   ],
   "source": [
    "from decord import VideoReader\n",
    "from decord import cpu\n",
    "import numpy as np\n",
    "vr = VideoReader('/work/bjuncek/AVA_actions/data/train/2FIHxnZKg6A.webm', ctx=cpu(0))\n",
    "# a file like object works as well, for in-memory decoding\n",
    "nf = len(vr)\n",
    "# 1. the simplest way is to directly access frames\n",
    "print(\"Decord VR number of frames\", nf)"
   ]
  },
  {
   "cell_type": "code",
   "execution_count": 14,
   "metadata": {
    "scrolled": true
   },
   "outputs": [
    {
     "name": "stdout",
     "output_type": "stream",
     "text": [
      "Decord VR practical number of frames 122228\n"
     ]
    }
   ],
   "source": [
    "frames = []\n",
    "for i in range(nf):\n",
    "    # the video reader will handle seeking and skipping in the most efficient manner\n",
    "    frames.append(vr[i])\n",
    "print(\"Decord VR practical number of frames\", len(frames))"
   ]
  },
  {
   "cell_type": "code",
   "execution_count": null,
   "metadata": {},
   "outputs": [],
   "source": [
    "frames"
   ]
  },
  {
   "cell_type": "code",
   "execution_count": 36,
   "metadata": {},
   "outputs": [
    {
     "name": "stdout",
     "output_type": "stream",
     "text": [
      "Decord VR-batch practical number of frames 332\n"
     ]
    }
   ],
   "source": [
    "frames = vr.get_batch(range(nf))\n",
    "print(\"Decord VR-batch practical number of frames\", frames.shape[0])"
   ]
  },
  {
   "cell_type": "markdown",
   "metadata": {},
   "source": [
    "## Decord VideoLoader\n",
    "\n",
    "uris : list of str\n",
    "    List of video paths.\n",
    "ctx : decord.Context or list of Context\n",
    "    The context to decode the video file, can be decord.cpu() or decord.gpu().\n",
    "    If ctx is a list, videos will be evenly split over many ctxs.\n",
    "shape : tuple\n",
    "    Returned shape of the batch images, e.g., (2, 320, 240, 3) as (Batch, H, W, 3)\n",
    "interval : int\n",
    "    Intra-batch frame interval.\n",
    "skip : int\n",
    "    Inter-batch frame interval.\n",
    "shuffle : int\n",
    "    Shuffling strategy. Can be\n",
    "    `0`:  all sequential, no seeking, following initial filename order\n",
    "    `1`:  random filename order, no random access for each video, very efficient\n",
    "    `2`:  random order\n",
    "    `3`:  random frame access in each video only."
   ]
  },
  {
   "cell_type": "code",
   "execution_count": 44,
   "metadata": {},
   "outputs": [],
   "source": [
    "from decord import VideoLoader\n",
    "from decord import cpu"
   ]
  },
  {
   "cell_type": "code",
   "execution_count": 48,
   "metadata": {},
   "outputs": [
    {
     "name": "stdout",
     "output_type": "stream",
     "text": [
      "6\n"
     ]
    }
   ],
   "source": [
    "vr = VideoLoader(['videos/SOX5yA1l24A.mp4'], shape=(50, 256, 340, 3), ctx=cpu(0), interval=0, skip=0, shuffle=1)\n",
    "print(len(vr))"
   ]
  },
  {
   "cell_type": "code",
   "execution_count": 50,
   "metadata": {},
   "outputs": [
    {
     "ename": "AttributeError",
     "evalue": "'NDArray' object has no attribute 'tolist'",
     "output_type": "error",
     "traceback": [
      "\u001b[0;31m---------------------------------------------------------------------------\u001b[0m",
      "\u001b[0;31mAttributeError\u001b[0m                            Traceback (most recent call last)",
      "\u001b[0;32m<ipython-input-50-ea171cd1ed62>\u001b[0m in \u001b[0;36m<module>\u001b[0;34m\u001b[0m\n\u001b[1;32m      1\u001b[0m \u001b[0;32mfor\u001b[0m \u001b[0mi\u001b[0m \u001b[0;32min\u001b[0m \u001b[0mrange\u001b[0m\u001b[0;34m(\u001b[0m\u001b[0mlen\u001b[0m\u001b[0;34m(\u001b[0m\u001b[0mvr\u001b[0m\u001b[0;34m)\u001b[0m\u001b[0;34m)\u001b[0m\u001b[0;34m:\u001b[0m\u001b[0;34m\u001b[0m\u001b[0;34m\u001b[0m\u001b[0m\n\u001b[1;32m      2\u001b[0m     \u001b[0mframes\u001b[0m\u001b[0;34m,\u001b[0m \u001b[0midx\u001b[0m \u001b[0;34m=\u001b[0m \u001b[0mvr\u001b[0m\u001b[0;34m.\u001b[0m\u001b[0mnext\u001b[0m\u001b[0;34m(\u001b[0m\u001b[0;34m)\u001b[0m\u001b[0;34m\u001b[0m\u001b[0;34m\u001b[0m\u001b[0m\n\u001b[0;32m----> 3\u001b[0;31m     \u001b[0mprint\u001b[0m\u001b[0;34m(\u001b[0m\u001b[0midx\u001b[0m\u001b[0;34m.\u001b[0m\u001b[0mtolist\u001b[0m\u001b[0;34m(\u001b[0m\u001b[0;34m)\u001b[0m\u001b[0;34m)\u001b[0m\u001b[0;34m\u001b[0m\u001b[0;34m\u001b[0m\u001b[0m\n\u001b[0m",
      "\u001b[0;31mAttributeError\u001b[0m: 'NDArray' object has no attribute 'tolist'"
     ]
    }
   ],
   "source": [
    "for i in range(len(vr)):\n",
    "    frames, idx = vr.next()\n"
   ]
  },
  {
   "cell_type": "code",
   "execution_count": 53,
   "metadata": {},
   "outputs": [
    {
     "data": {
      "text/plain": [
       "6.0"
      ]
     },
     "execution_count": 53,
     "metadata": {},
     "output_type": "execute_result"
    }
   ],
   "source": [
    "a = [3, 9]\n",
    "np.mean(a)"
   ]
  },
  {
   "cell_type": "markdown",
   "metadata": {},
   "source": [
    "# Testing for API"
   ]
  },
  {
   "cell_type": "code",
   "execution_count": 149,
   "metadata": {},
   "outputs": [],
   "source": [
    "import av\n",
    "container = av.open('videos/SOX5yA1l24A.mp4')"
   ]
  },
  {
   "cell_type": "code",
   "execution_count": 74,
   "metadata": {},
   "outputs": [
    {
     "name": "stdout",
     "output_type": "stream",
     "text": [
      "['video', 'audio']\n"
     ]
    }
   ],
   "source": [
    "print([x.type for x in list(container.streams)])"
   ]
  },
  {
   "cell_type": "code",
   "execution_count": 138,
   "metadata": {},
   "outputs": [
    {
     "ename": "EOFError",
     "evalue": "[Errno 541478725] End of file",
     "output_type": "error",
     "traceback": [
      "\u001b[0;31m---------------------------------------------------------------------------\u001b[0m",
      "\u001b[0;31mEOFError\u001b[0m                                  Traceback (most recent call last)",
      "\u001b[0;32m<ipython-input-138-47561843321d>\u001b[0m in \u001b[0;36m<module>\u001b[0;34m\u001b[0m\n\u001b[0;32m----> 1\u001b[0;31m \u001b[0mcontainer\u001b[0m\u001b[0;34m.\u001b[0m\u001b[0mdecode\u001b[0m\u001b[0;34m(\u001b[0m\u001b[0mcontainer\u001b[0m\u001b[0;34m.\u001b[0m\u001b[0mstreams\u001b[0m\u001b[0;34m.\u001b[0m\u001b[0mvideo\u001b[0m\u001b[0;34m)\u001b[0m\u001b[0;34m.\u001b[0m\u001b[0m__next__\u001b[0m\u001b[0;34m(\u001b[0m\u001b[0;34m)\u001b[0m\u001b[0;34m\u001b[0m\u001b[0;34m\u001b[0m\u001b[0m\n\u001b[0m\u001b[1;32m      2\u001b[0m \u001b[0;34m\u001b[0m\u001b[0m\n",
      "\u001b[0;32mav/container/input.pyx\u001b[0m in \u001b[0;36mdecode\u001b[0;34m()\u001b[0m\n",
      "\u001b[0;32mav/packet.pyx\u001b[0m in \u001b[0;36mav.packet.Packet.decode\u001b[0;34m()\u001b[0m\n",
      "\u001b[0;32mav/stream.pyx\u001b[0m in \u001b[0;36mav.stream.Stream.decode\u001b[0;34m()\u001b[0m\n",
      "\u001b[0;32mav/codec/context.pyx\u001b[0m in \u001b[0;36mav.codec.context.CodecContext.decode\u001b[0;34m()\u001b[0m\n",
      "\u001b[0;32mav/codec/context.pyx\u001b[0m in \u001b[0;36mav.codec.context.CodecContext._send_packet_and_recv\u001b[0;34m()\u001b[0m\n",
      "\u001b[0;32mav/error.pyx\u001b[0m in \u001b[0;36mav.error.err_check\u001b[0;34m()\u001b[0m\n",
      "\u001b[0;31mEOFError\u001b[0m: [Errno 541478725] End of file"
     ]
    }
   ],
   "source": [
    "container.decode(container.streams.video).__next__()\n",
    "    "
   ]
  },
  {
   "cell_type": "code",
   "execution_count": 125,
   "metadata": {},
   "outputs": [],
   "source": [
    "for frame in container.decode(container.streams.audio[0]):\n",
    "    print(frame.pts)\n",
    "    "
   ]
  },
  {
   "cell_type": "code",
   "execution_count": 139,
   "metadata": {},
   "outputs": [],
   "source": [
    "container.seek(200000, stream=container.streams.audio[0])"
   ]
  },
  {
   "cell_type": "code",
   "execution_count": 141,
   "metadata": {},
   "outputs": [
    {
     "ename": "AttributeError",
     "evalue": "pts",
     "output_type": "error",
     "traceback": [
      "\u001b[0;31m---------------------------------------------------------------------------\u001b[0m",
      "\u001b[0;31mAttributeError\u001b[0m                            Traceback (most recent call last)",
      "\u001b[0;32mav/stream.pyx\u001b[0m in \u001b[0;36mav.stream.Stream.__getattr__\u001b[0;34m()\u001b[0m\n",
      "\u001b[0;31mAttributeError\u001b[0m: 'av.audio.codeccontext.AudioCodecContext' object has no attribute 'pts'",
      "\nDuring handling of the above exception, another exception occurred:\n",
      "\u001b[0;31mAttributeError\u001b[0m                            Traceback (most recent call last)",
      "\u001b[0;32mav/stream.pyx\u001b[0m in \u001b[0;36mav.stream.Stream.__getattr__\u001b[0;34m()\u001b[0m\n",
      "\u001b[0;31mAttributeError\u001b[0m: 'av.codec.codec.Codec' object has no attribute 'pts'",
      "\nDuring handling of the above exception, another exception occurred:\n",
      "\u001b[0;31mAttributeError\u001b[0m                            Traceback (most recent call last)",
      "\u001b[0;32m<ipython-input-141-3a68751b12d0>\u001b[0m in \u001b[0;36m<module>\u001b[0;34m\u001b[0m\n\u001b[0;32m----> 1\u001b[0;31m \u001b[0mprint\u001b[0m\u001b[0;34m(\u001b[0m\u001b[0mcontainer\u001b[0m\u001b[0;34m.\u001b[0m\u001b[0mstreams\u001b[0m\u001b[0;34m.\u001b[0m\u001b[0maudio\u001b[0m\u001b[0;34m[\u001b[0m\u001b[0;36m0\u001b[0m\u001b[0;34m]\u001b[0m\u001b[0;34m.\u001b[0m\u001b[0mpts\u001b[0m\u001b[0;34m)\u001b[0m\u001b[0;34m\u001b[0m\u001b[0;34m\u001b[0m\u001b[0m\n\u001b[0m",
      "\u001b[0;32mav/stream.pyx\u001b[0m in \u001b[0;36mav.stream.Stream.__getattr__\u001b[0;34m()\u001b[0m\n",
      "\u001b[0;31mAttributeError\u001b[0m: pts"
     ]
    }
   ],
   "source": [
    "print(container.streams.audio[0].pts)"
   ]
  },
  {
   "cell_type": "code",
   "execution_count": 115,
   "metadata": {},
   "outputs": [],
   "source": [
    "container.seek(516096, stream=container.streams.video[0])"
   ]
  },
  {
   "cell_type": "code",
   "execution_count": 93,
   "metadata": {},
   "outputs": [
    {
     "name": "stdout",
     "output_type": "stream",
     "text": [
      "[2048, 3072, 4096, 5120, 6144, 7168, 8192, 9216, 10240, 11264, 12288, 13312, 14336, 15360, 16384, 17408, 18432, 19456, 20480, 21504, 22528, 23552, 24576, 25600, 26624, 27648, 28672, 29696, 30720, 31744, 32768, 33792, 34816, 35840, 36864, 37888, 38912, 39936, 40960, 41984, 43008, 44032, 45056, 46080, 47104, 48128, 49152, 50176, 51200, 52224, 53248, 54272, 55296, 56320, 57344, 58368, 59392, 60416, 61440, 62464, 63488, 64512, 65536, 66560, 67584, 68608, 69632, 70656, 71680, 72704, 73728, 74752, 75776, 76800, 77824, 78848, 79872, 80896, 81920, 82944, 83968, 84992, 86016, 87040, 88064, 89088, 90112, 91136, 92160, 93184, 94208, 95232, 96256, 97280, 98304, 99328, 100352, 101376, 102400, 103424, 104448, 105472, 106496, 107520, 108544, 109568, 110592, 111616, 112640, 113664, 114688, 115712, 116736, 117760, 118784, 119808, 120832, 121856, 122880, 123904, 124928, 125952, 126976, 128000, 129024, 130048, 131072, 132096, 133120, 134144, 135168, 136192, 137216, 138240, 139264, 140288, 141312, 142336, 143360, 144384, 145408, 146432, 147456, 148480, 149504, 150528, 151552, 152576, 153600, 154624, 155648, 156672, 157696, 158720, 159744, 160768, 161792, 162816, 163840, 164864, 165888, 166912, 167936, 168960, 169984, 171008, 172032, 173056, 174080, 175104, 176128, 177152, 178176, 179200, 180224, 181248, 182272, 183296, 184320, 185344, 186368, 187392, 188416, 189440, 190464, 191488, 192512, 193536, 194560, 195584, 196608, 197632, 198656, 199680, 200704, 201728, 202752, 203776, 204800, 205824, 206848, 207872, 208896, 209920, 210944, 211968, 212992, 214016, 215040, 216064, 217088, 138138, 218112, 219136, 220160, 221184, 222208, 223232, 224256, 225280, 226304, 227328, 228352, 229376, 230400, 231424, 232448, 233472, 234496, 235520, 236544, 237568, 238592, 239616, 240640, 241664, 242688, 243712, 244736, 245760, 246784, 247808, 248832, 249856, 250880, 251904, 252928, 253952, 254976, 256000, 257024, 258048, 259072, 260096, 261120, 262144, 263168, 264192, 265216, 266240, 267264, 268288, 269312, 270336, 271360, 272384, 273408, 274432, 275456, 276480, 277504, 278528, 279552, 280576, 281600, 282624, 283648, 284672, 285696, 286720, 287744, 288768, 289792, 290816, 291840, 292864, 293888, 294912, 295936, 296960, 297984, 299008, 300032, 301056, 302080, 303104, 304128, 305152, 306176, 307200, 308224, 309248, 310272, 311296, 312320, 313344, 314368, 315392, 316416, 317440, 318464, 319488, 320512, 321536, 322560, 323584, 324608, 325632, 326656, 327680, 328704, 329728, 330752, 331776, 332800, 333824, 334848, 335872, 336896, 337920, 338944, 339968, 340992, 342016, 343040, 344064, 345088, 346112, 347136, 219219, 348160, 349184, 350208, 351232, 352256, 353280, 354304, 355328, 356352, 357376, 358400, 359424, 360448, 361472, 362496, 363520, 364544, 365568, 366592, 367616, 368640, 369664, 370688, 371712, 372736, 373760, 374784, 375808, 376832, 377856, 378880, 379904, 380928, 381952, 382976, 384000, 385024, 386048, 387072, 388096, 389120, 390144, 391168, 392192, 393216, 394240, 395264, 396288, 397312, 398336, 399360, 400384, 401408, 402432, 403456, 404480, 405504, 406528, 407552, 408576, 409600, 410624, 411648, 412672, 413696, 414720, 415744, 416768, 417792, 418816, 419840, 420864, 421888, 422912, 423936, 424960, 425984, 427008, 428032, 429056, 430080, 431104, 432128, 433152, 434176, 435200, 436224, 437248, 438272, 439296, 440320, 441344, 442368, 443392, 444416, 445440, 446464, 447488, 448512, 449536, 450560, 451584, 452608, 453632, 454656, 455680, 456704, 457728, 458752, 459776, 460800, 461824, 462848, 463872, 292292, 464896, 465920, 466944, 467968, 468992, 470016, 471040, 472064, 473088, 474112, 475136, 476160, 477184, 478208, 479232, 480256, 481280, 482304, 483328, 484352, 485376, 486400, 487424, 488448, 489472, 490496, 491520, 492544, 493568, 494592, 495616, 496640, 497664, 498688, 499712, 500736, 501760, 502784, 503808, 504832, 505856, 506880, 507904, 508928, 509952, 510976, 512000, 513024, 514048, 515072, 516096, 517120, 518144, 519168, 520192, 521216, 522240, 523264, 524288, 525312, 526336, 527360, 528384, 529408, 530432]\n"
     ]
    }
   ],
   "source": [
    "keyframes = []\n",
    "for packet in container.demux():\n",
    "    if packet.is_keyframe:\n",
    "        keyframes.append(packet.pts)\n",
    "print(keyframes)"
   ]
  },
  {
   "cell_type": "code",
   "execution_count": 134,
   "metadata": {},
   "outputs": [],
   "source": [
    "import math\n",
    "def _sec_to_stream(ts, stream):\n",
    "    return int(math.floor(ts * (1 / stream.time_base)))\n",
    "\n",
    "def _stream_to_sec(pts, stream):\n",
    "    return float(pts * stream.time_base)"
   ]
  },
  {
   "cell_type": "code",
   "execution_count": 136,
   "metadata": {},
   "outputs": [
    {
     "data": {
      "text/plain": [
       "960000"
      ]
     },
     "execution_count": 136,
     "metadata": {},
     "output_type": "execute_result"
    }
   ],
   "source": [
    "_sec_to_stream(20, container.streams.audio[0])"
   ]
  },
  {
   "cell_type": "code",
   "execution_count": 135,
   "metadata": {},
   "outputs": [
    {
     "data": {
      "text/plain": [
       "20.0"
      ]
     },
     "execution_count": 135,
     "metadata": {},
     "output_type": "execute_result"
    }
   ],
   "source": [
    "_stream_to_sec(600000, container.streams.video[0])"
   ]
  },
  {
   "cell_type": "code",
   "execution_count": 152,
   "metadata": {},
   "outputs": [
    {
     "data": {
      "text/plain": [
       "av.video.stream.VideoStream"
      ]
     },
     "execution_count": 152,
     "metadata": {},
     "output_type": "execute_result"
    }
   ],
   "source": [
    "type(list(container.streams)[0])"
   ]
  },
  {
   "cell_type": "code",
   "execution_count": 154,
   "metadata": {},
   "outputs": [
    {
     "data": {
      "text/plain": [
       "True"
      ]
     },
     "execution_count": 154,
     "metadata": {},
     "output_type": "execute_result"
    }
   ],
   "source": [
    "isinstance(list(container.streams)[0], av.stream.Stream)"
   ]
  },
  {
   "cell_type": "code",
   "execution_count": 174,
   "metadata": {},
   "outputs": [
    {
     "data": {
      "text/plain": [
       "<av.InputContainer 'videos/SOX5yA1l24A.mp4'>"
      ]
     },
     "execution_count": 174,
     "metadata": {},
     "output_type": "execute_result"
    }
   ],
   "source": [
    "container"
   ]
  },
  {
   "cell_type": "code",
   "execution_count": 161,
   "metadata": {},
   "outputs": [
    {
     "name": "stdout",
     "output_type": "stream",
     "text": [
      "0\n"
     ]
    }
   ],
   "source": [
    "container.seek(20)\n",
    "packet = next(container.demux(video=0))\n",
    "print(packet.pts)"
   ]
  },
  {
   "cell_type": "code",
   "execution_count": 162,
   "metadata": {},
   "outputs": [],
   "source": [
    "container.seek(0)"
   ]
  },
  {
   "cell_type": "code",
   "execution_count": 166,
   "metadata": {},
   "outputs": [
    {
     "data": {
      "text/plain": [
       "11.077733333333333"
      ]
     },
     "execution_count": 166,
     "metadata": {},
     "output_type": "execute_result"
    }
   ],
   "source": [
    "float(container.streams.video[0].duration * container.streams.video[0].time_base)"
   ]
  },
  {
   "cell_type": "code",
   "execution_count": 167,
   "metadata": {},
   "outputs": [
    {
     "data": {
      "text/plain": [
       "11.06"
      ]
     },
     "execution_count": 167,
     "metadata": {},
     "output_type": "execute_result"
    }
   ],
   "source": [
    "float(container.streams.audio[0].duration * container.streams.audio[0].time_base)"
   ]
  },
  {
   "cell_type": "markdown",
   "metadata": {},
   "source": [
    "## Understanding seek in PYAV"
   ]
  },
  {
   "cell_type": "code",
   "execution_count": 204,
   "metadata": {},
   "outputs": [
    {
     "name": "stdout",
     "output_type": "stream",
     "text": [
      "[0, 138138, 219219, 292292]\n"
     ]
    }
   ],
   "source": [
    "# getting keyframes\n",
    "container = av.open(\"./videos/SOX5yA1l24A.mp4\")\n",
    "# Signal that we only want to look at keyframes.\n",
    "stream = container.streams.video[0]\n",
    "stream.codec_context.skip_frame = 'NONKEY'\n",
    "keyframes = []\n",
    "for frame in container.decode(stream):\n",
    "    keyframes.append(frame.pts)\n",
    "print(keyframes)"
   ]
  },
  {
   "cell_type": "code",
   "execution_count": 205,
   "metadata": {},
   "outputs": [
    {
     "name": "stdout",
     "output_type": "stream",
     "text": [
      "[0, 1001, 2002, 3003, 4004, 5005, 6006, 7007, 8008, 9009, 10010, 11011, 12012, 13013, 14014, 15015, 16016, 17017, 18018, 19019, 20020, 21021, 22022, 23023, 24024, 25025, 26026, 27027, 28028, 29029, 30030, 31031, 32032, 33033, 34034, 35035, 36036, 37037, 38038, 39039, 40040, 41041, 42042, 43043, 44044, 45045, 46046, 47047, 48048, 49049, 50050, 51051, 52052, 53053, 54054, 55055, 56056, 57057, 58058, 59059, 60060, 61061, 62062, 63063, 64064, 65065, 66066, 67067, 68068, 69069, 70070, 71071, 72072, 73073, 74074, 75075, 76076, 77077, 78078, 79079, 80080, 81081, 82082, 83083, 84084, 85085, 86086, 87087, 88088, 89089, 90090, 91091, 92092, 93093, 94094, 95095, 96096, 97097, 98098, 99099, 100100, 101101, 102102, 103103, 104104, 105105, 106106, 107107, 108108, 109109, 110110, 111111, 112112, 113113, 114114, 115115, 116116, 117117, 118118, 119119, 120120, 121121, 122122, 123123, 124124, 125125, 126126, 127127, 128128, 129129, 130130, 131131, 132132, 133133, 134134, 135135, 136136, 137137, 138138, 139139, 140140, 141141, 142142, 143143, 144144, 145145, 146146, 147147, 148148, 149149, 150150, 151151, 152152, 153153, 154154, 155155, 156156, 157157, 158158, 159159, 160160, 161161, 162162, 163163, 164164, 165165, 166166, 167167, 168168, 169169, 170170, 171171, 172172, 173173, 174174, 175175, 176176, 177177, 178178, 179179, 180180, 181181, 182182, 183183, 184184, 185185, 186186, 187187, 188188, 189189, 190190, 191191, 192192, 193193, 194194, 195195, 196196, 197197, 198198, 199199, 200200, 201201, 202202, 203203, 204204, 205205, 206206, 207207, 208208, 209209, 210210, 211211, 212212, 213213, 214214, 215215, 216216, 217217, 218218, 219219, 220220, 221221, 222222, 223223, 224224, 225225, 226226, 227227, 228228, 229229, 230230, 231231, 232232, 233233, 234234, 235235, 236236, 237237, 238238, 239239, 240240, 241241, 242242, 243243, 244244, 245245, 246246, 247247, 248248, 249249, 250250, 251251, 252252, 253253, 254254, 255255, 256256, 257257, 258258, 259259, 260260, 261261, 262262, 263263, 264264, 265265, 266266, 267267, 268268, 269269, 270270, 271271, 272272, 273273, 274274, 275275, 276276, 277277, 278278, 279279, 280280, 281281, 282282, 283283, 284284, 285285, 286286, 287287, 288288, 289289, 290290, 291291, 292292, 293293, 294294, 295295, 296296, 297297, 298298, 299299, 300300, 301301, 302302, 303303, 304304, 305305, 306306, 307307, 308308, 309309, 310310, 311311, 312312, 313313, 314314, 315315, 316316, 317317, 318318, 319319, 320320, 321321, 322322, 323323, 324324, 325325, 326326, 327327, 328328, 329329, 330330, 331331]\n"
     ]
    }
   ],
   "source": [
    "# getting all frames\n",
    "container = av.open(\"./videos/SOX5yA1l24A.mp4\")\n",
    "# Signal that we only want to look at keyframes.\n",
    "stream = container.streams.video[0]\n",
    "all_frames = []\n",
    "for frame in container.decode(stream):\n",
    "    all_frames.append(frame.pts)\n",
    "print(all_frames)"
   ]
  },
  {
   "cell_type": "code",
   "execution_count": 210,
   "metadata": {},
   "outputs": [
    {
     "name": "stdout",
     "output_type": "stream",
     "text": [
      "[(0, 0), (1000, 0), (2000, 138138), (3000, 138138), (4000, 138138), (5000, 138138), (6000, 138138), (7000, 138138), (8000, 138138), (9000, 138138), (10000, 138138), (11000, 138138), (12000, 138138), (13000, 138138), (14000, 138138), (15000, 138138), (16000, 138138), (17000, 138138), (18000, 138138), (19000, 138138), (20000, 138138), (21000, 138138), (22000, 138138), (23000, 138138), (24000, 138138), (25000, 138138), (26000, 138138), (27000, 138138), (28000, 138138), (29000, 138138), (30000, 138138), (31000, 138138), (32000, 138138), (33000, 138138), (34000, 138138), (35000, 138138), (36000, 138138), (37000, 138138), (38000, 138138), (39000, 138138), (40000, 138138), (41000, 138138), (42000, 138138), (43000, 138138), (44000, 138138), (45000, 138138), (46000, 138138), (47000, 138138), (48000, 138138), (49000, 138138), (50000, 138138), (51000, 138138), (52000, 138138), (53000, 138138), (54000, 138138), (55000, 138138), (56000, 138138), (57000, 138138), (58000, 138138), (59000, 138138), (60000, 138138), (61000, 138138), (62000, 138138), (63000, 138138), (64000, 138138), (65000, 138138), (66000, 138138), (67000, 138138), (68000, 138138), (69000, 138138), (70000, 138138), (71000, 138138), (72000, 138138), (73000, 138138), (74000, 138138), (75000, 138138), (76000, 138138), (77000, 138138), (78000, 138138), (79000, 138138), (80000, 138138), (81000, 138138), (82000, 138138), (83000, 138138), (84000, 138138), (85000, 138138), (86000, 138138), (87000, 138138), (88000, 138138), (89000, 138138), (90000, 138138), (91000, 138138), (92000, 138138), (93000, 138138), (94000, 138138), (95000, 138138), (96000, 138138), (97000, 138138), (98000, 138138), (99000, 138138), (100000, 138138), (101000, 138138), (102000, 138138), (103000, 138138), (104000, 138138), (105000, 138138), (106000, 138138), (107000, 138138), (108000, 138138), (109000, 138138), (110000, 138138), (111000, 138138), (112000, 138138), (113000, 138138), (114000, 138138), (115000, 138138), (116000, 138138), (117000, 138138), (118000, 138138), (119000, 138138), (120000, 138138), (121000, 138138), (122000, 138138), (123000, 138138), (124000, 138138), (125000, 138138), (126000, 138138), (127000, 138138), (128000, 138138), (129000, 138138), (130000, 138138), (131000, 138138), (132000, 138138), (133000, 138138), (134000, 138138), (135000, 138138), (136000, 138138), (137000, 138138), (138000, 138138), (139000, 138138), (140000, 219219), (141000, 219219), (142000, 219219), (143000, 219219), (144000, 219219), (145000, 219219), (146000, 219219), (147000, 219219), (148000, 219219), (149000, 219219), (150000, 219219), (151000, 219219), (152000, 219219), (153000, 219219), (154000, 219219), (155000, 219219), (156000, 219219), (157000, 219219), (158000, 219219), (159000, 219219), (160000, 219219), (161000, 219219), (162000, 219219), (163000, 219219), (164000, 219219), (165000, 219219), (166000, 219219), (167000, 219219), (168000, 219219), (169000, 219219), (170000, 219219), (171000, 219219), (172000, 219219), (173000, 219219), (174000, 219219), (175000, 219219), (176000, 219219), (177000, 219219), (178000, 219219), (179000, 219219), (180000, 219219), (181000, 219219), (182000, 219219), (183000, 219219), (184000, 219219), (185000, 219219), (186000, 219219), (187000, 219219), (188000, 219219), (189000, 219219), (190000, 219219), (191000, 219219), (192000, 219219), (193000, 219219), (194000, 219219), (195000, 219219), (196000, 219219), (197000, 219219), (198000, 219219), (199000, 219219), (200000, 219219), (201000, 219219), (202000, 219219), (203000, 219219), (204000, 219219), (205000, 219219), (206000, 219219), (207000, 219219), (208000, 219219), (209000, 219219), (210000, 219219), (211000, 219219), (212000, 219219), (213000, 219219), (214000, 219219), (215000, 219219), (216000, 219219), (217000, 219219), (218000, 219219), (219000, 219219), (220000, 219219), (221000, 292292), (222000, 292292), (223000, 292292), (224000, 292292), (225000, 292292), (226000, 292292), (227000, 292292), (228000, 292292), (229000, 292292), (230000, 292292), (231000, 292292), (232000, 292292), (233000, 292292), (234000, 292292), (235000, 292292), (236000, 292292), (237000, 292292), (238000, 292292), (239000, 292292), (240000, 292292), (241000, 292292), (242000, 292292), (243000, 292292), (244000, 292292), (245000, 292292), (246000, 292292), (247000, 292292), (248000, 292292), (249000, 292292), (250000, 292292), (251000, 292292), (252000, 292292), (253000, 292292), (254000, 292292), (255000, 292292), (256000, 292292), (257000, 292292), (258000, 292292), (259000, 292292), (260000, 292292), (261000, 292292), (262000, 292292), (263000, 292292), (264000, 292292), (265000, 292292), (266000, 292292), (267000, 292292), (268000, 292292), (269000, 292292), (270000, 292292), (271000, 292292), (272000, 292292), (273000, 292292), (274000, 292292), (275000, 292292), (276000, 292292), (277000, 292292), (278000, 292292), (279000, 292292), (280000, 292292), (281000, 292292), (282000, 292292), (283000, 292292), (284000, 292292), (285000, 292292), (286000, 292292), (287000, 292292), (288000, 292292), (289000, 292292), (290000, 292292), (291000, 292292), (292000, 292292), (293000, 292292)]\n"
     ]
    }
   ],
   "source": [
    "container = av.open(\"./videos/SOX5yA1l24A.mp4\")\n",
    "stream = container.streams.video[0]\n",
    "all_pairs = []\n",
    "for i in range(0, 400000, 1000):\n",
    "    container.seek(i, backward=True, any_frame=True, stream=stream)\n",
    "    for frame in container.decode(stream):\n",
    "        all_pairs.append((i, frame.pts))\n",
    "        break\n",
    "print(all_pairs)"
   ]
  },
  {
   "cell_type": "code",
   "execution_count": 211,
   "metadata": {
    "scrolled": true
   },
   "outputs": [
    {
     "name": "stdout",
     "output_type": "stream",
     "text": [
      "[(0, 0), (1000, 0), (2000, 0), (3000, 0), (4000, 0), (5000, 0), (6000, 0), (7000, 0), (8000, 0), (9000, 0), (10000, 0), (11000, 0), (12000, 0), (13000, 0), (14000, 0), (15000, 0), (16000, 0), (17000, 0), (18000, 0), (19000, 0), (20000, 0), (21000, 0), (22000, 0), (23000, 0), (24000, 0), (25000, 0), (26000, 0), (27000, 0), (28000, 0), (29000, 0), (30000, 0), (31000, 0), (32000, 0), (33000, 0), (34000, 0), (35000, 0), (36000, 0), (37000, 0), (38000, 0), (39000, 0), (40000, 0), (41000, 0), (42000, 0), (43000, 0), (44000, 0), (45000, 0), (46000, 0), (47000, 0), (48000, 0), (49000, 0), (50000, 0), (51000, 0), (52000, 0), (53000, 0), (54000, 0), (55000, 0), (56000, 0), (57000, 0), (58000, 0), (59000, 0), (60000, 0), (61000, 0), (62000, 0), (63000, 0), (64000, 0), (65000, 0), (66000, 0), (67000, 0), (68000, 0), (69000, 0), (70000, 0), (71000, 0), (72000, 0), (73000, 0), (74000, 0), (75000, 0), (76000, 0), (77000, 0), (78000, 0), (79000, 0), (80000, 0), (81000, 0), (82000, 0), (83000, 0), (84000, 0), (85000, 0), (86000, 0), (87000, 0), (88000, 0), (89000, 0), (90000, 0), (91000, 0), (92000, 0), (93000, 0), (94000, 0), (95000, 0), (96000, 0), (97000, 0), (98000, 0), (99000, 0), (100000, 0), (101000, 0), (102000, 0), (103000, 0), (104000, 0), (105000, 0), (106000, 0), (107000, 0), (108000, 0), (109000, 0), (110000, 0), (111000, 0), (112000, 0), (113000, 0), (114000, 0), (115000, 0), (116000, 0), (117000, 0), (118000, 0), (119000, 0), (120000, 0), (121000, 0), (122000, 0), (123000, 0), (124000, 0), (125000, 0), (126000, 0), (127000, 0), (128000, 0), (129000, 0), (130000, 0), (131000, 0), (132000, 0), (133000, 0), (134000, 0), (135000, 0), (136000, 0), (137000, 0), (138000, 0), (139000, 138138), (140000, 138138), (141000, 138138), (142000, 138138), (143000, 138138), (144000, 138138), (145000, 138138), (146000, 138138), (147000, 138138), (148000, 138138), (149000, 138138), (150000, 138138), (151000, 138138), (152000, 138138), (153000, 138138), (154000, 138138), (155000, 138138), (156000, 138138), (157000, 138138), (158000, 138138), (159000, 138138), (160000, 138138), (161000, 138138), (162000, 138138), (163000, 138138), (164000, 138138), (165000, 138138), (166000, 138138), (167000, 138138), (168000, 138138), (169000, 138138), (170000, 138138), (171000, 138138), (172000, 138138), (173000, 138138), (174000, 138138), (175000, 138138), (176000, 138138), (177000, 138138), (178000, 138138), (179000, 138138), (180000, 138138), (181000, 138138), (182000, 138138), (183000, 138138), (184000, 138138), (185000, 138138), (186000, 138138), (187000, 138138), (188000, 138138), (189000, 138138), (190000, 138138), (191000, 138138), (192000, 138138), (193000, 138138), (194000, 138138), (195000, 138138), (196000, 138138), (197000, 138138), (198000, 138138), (199000, 138138), (200000, 138138), (201000, 138138), (202000, 138138), (203000, 138138), (204000, 138138), (205000, 138138), (206000, 138138), (207000, 138138), (208000, 138138), (209000, 138138), (210000, 138138), (211000, 138138), (212000, 138138), (213000, 138138), (214000, 138138), (215000, 138138), (216000, 138138), (217000, 138138), (218000, 138138), (219000, 138138), (220000, 219219), (221000, 219219), (222000, 219219), (223000, 219219), (224000, 219219), (225000, 219219), (226000, 219219), (227000, 219219), (228000, 219219), (229000, 219219), (230000, 219219), (231000, 219219), (232000, 219219), (233000, 219219), (234000, 219219), (235000, 219219), (236000, 219219), (237000, 219219), (238000, 219219), (239000, 219219), (240000, 219219), (241000, 219219), (242000, 219219), (243000, 219219), (244000, 219219), (245000, 219219), (246000, 219219), (247000, 219219), (248000, 219219), (249000, 219219), (250000, 219219), (251000, 219219), (252000, 219219), (253000, 219219), (254000, 219219), (255000, 219219), (256000, 219219), (257000, 219219), (258000, 219219), (259000, 219219), (260000, 219219), (261000, 219219), (262000, 219219), (263000, 219219), (264000, 219219), (265000, 219219), (266000, 219219), (267000, 219219), (268000, 219219), (269000, 219219), (270000, 219219), (271000, 219219), (272000, 219219), (273000, 219219), (274000, 219219), (275000, 219219), (276000, 219219), (277000, 219219), (278000, 219219), (279000, 219219), (280000, 219219), (281000, 219219), (282000, 219219), (283000, 219219), (284000, 219219), (285000, 219219), (286000, 219219), (287000, 219219), (288000, 219219), (289000, 219219), (290000, 219219), (291000, 219219), (292000, 219219), (293000, 292292), (294000, 292292), (295000, 292292), (296000, 292292), (297000, 292292), (298000, 292292), (299000, 292292), (300000, 292292), (301000, 292292), (302000, 292292), (303000, 292292), (304000, 292292), (305000, 292292), (306000, 292292), (307000, 292292), (308000, 292292), (309000, 292292), (310000, 292292), (311000, 292292), (312000, 292292), (313000, 292292), (314000, 292292), (315000, 292292), (316000, 292292), (317000, 292292), (318000, 292292), (319000, 292292), (320000, 292292), (321000, 292292), (322000, 292292), (323000, 292292), (324000, 292292), (325000, 292292), (326000, 292292), (327000, 292292), (328000, 292292), (329000, 292292), (330000, 292292), (331000, 292292), (332000, 292292), (333000, 292292), (334000, 292292), (335000, 292292), (336000, 292292), (337000, 292292), (338000, 292292), (339000, 292292), (340000, 292292), (341000, 292292), (342000, 292292), (343000, 292292), (344000, 292292), (345000, 292292), (346000, 292292), (347000, 292292), (348000, 292292), (349000, 292292), (350000, 292292), (351000, 292292), (352000, 292292), (353000, 292292), (354000, 292292), (355000, 292292), (356000, 292292), (357000, 292292), (358000, 292292), (359000, 292292), (360000, 292292), (361000, 292292), (362000, 292292), (363000, 292292), (364000, 292292), (365000, 292292), (366000, 292292), (367000, 292292), (368000, 292292), (369000, 292292), (370000, 292292), (371000, 292292), (372000, 292292), (373000, 292292), (374000, 292292), (375000, 292292), (376000, 292292), (377000, 292292), (378000, 292292), (379000, 292292), (380000, 292292), (381000, 292292), (382000, 292292), (383000, 292292), (384000, 292292), (385000, 292292), (386000, 292292), (387000, 292292), (388000, 292292), (389000, 292292), (390000, 292292), (391000, 292292), (392000, 292292), (393000, 292292), (394000, 292292), (395000, 292292), (396000, 292292), (397000, 292292), (398000, 292292), (399000, 292292)]\n"
     ]
    }
   ],
   "source": [
    "container = av.open(\"./videos/SOX5yA1l24A.mp4\")\n",
    "stream = container.streams.video[0]\n",
    "all_pairs = []\n",
    "for i in range(0, 400000, 1000):\n",
    "    container.seek(i, backward=True, any_frame=False, stream=stream)\n",
    "    for frame in container.decode(stream):\n",
    "        all_pairs.append((i, frame.pts))\n",
    "        break\n",
    "print(all_pairs)"
   ]
  },
  {
   "cell_type": "code",
   "execution_count": 17,
   "metadata": {},
   "outputs": [
    {
     "data": {
      "text/html": [
       "<div>\n",
       "<style scoped>\n",
       "    .dataframe tbody tr th:only-of-type {\n",
       "        vertical-align: middle;\n",
       "    }\n",
       "\n",
       "    .dataframe tbody tr th {\n",
       "        vertical-align: top;\n",
       "    }\n",
       "\n",
       "    .dataframe thead th {\n",
       "        text-align: right;\n",
       "    }\n",
       "</style>\n",
       "<table border=\"1\" class=\"dataframe\">\n",
       "  <thead>\n",
       "    <tr style=\"text-align: right;\">\n",
       "      <th></th>\n",
       "      <th>video_id</th>\n",
       "      <th>middle_frame_timestamp</th>\n",
       "      <th>x1</th>\n",
       "      <th>y1</th>\n",
       "      <th>x2</th>\n",
       "      <th>y2</th>\n",
       "      <th>action_id</th>\n",
       "      <th>person_id</th>\n",
       "    </tr>\n",
       "  </thead>\n",
       "  <tbody>\n",
       "    <tr>\n",
       "      <th>0</th>\n",
       "      <td>1j20qq1JyX4</td>\n",
       "      <td>902</td>\n",
       "      <td>0.002</td>\n",
       "      <td>0.118</td>\n",
       "      <td>0.714</td>\n",
       "      <td>0.977</td>\n",
       "      <td>12</td>\n",
       "      <td>1</td>\n",
       "    </tr>\n",
       "    <tr>\n",
       "      <th>1</th>\n",
       "      <td>1j20qq1JyX4</td>\n",
       "      <td>902</td>\n",
       "      <td>0.002</td>\n",
       "      <td>0.118</td>\n",
       "      <td>0.714</td>\n",
       "      <td>0.977</td>\n",
       "      <td>79</td>\n",
       "      <td>1</td>\n",
       "    </tr>\n",
       "    <tr>\n",
       "      <th>2</th>\n",
       "      <td>1j20qq1JyX4</td>\n",
       "      <td>902</td>\n",
       "      <td>0.444</td>\n",
       "      <td>0.054</td>\n",
       "      <td>0.992</td>\n",
       "      <td>0.990</td>\n",
       "      <td>12</td>\n",
       "      <td>0</td>\n",
       "    </tr>\n",
       "    <tr>\n",
       "      <th>3</th>\n",
       "      <td>1j20qq1JyX4</td>\n",
       "      <td>902</td>\n",
       "      <td>0.444</td>\n",
       "      <td>0.054</td>\n",
       "      <td>0.992</td>\n",
       "      <td>0.990</td>\n",
       "      <td>17</td>\n",
       "      <td>0</td>\n",
       "    </tr>\n",
       "    <tr>\n",
       "      <th>4</th>\n",
       "      <td>1j20qq1JyX4</td>\n",
       "      <td>902</td>\n",
       "      <td>0.444</td>\n",
       "      <td>0.054</td>\n",
       "      <td>0.992</td>\n",
       "      <td>0.990</td>\n",
       "      <td>79</td>\n",
       "      <td>0</td>\n",
       "    </tr>\n",
       "  </tbody>\n",
       "</table>\n",
       "</div>"
      ],
      "text/plain": [
       "      video_id  middle_frame_timestamp     x1     y1     x2     y2  action_id  \\\n",
       "0  1j20qq1JyX4                     902  0.002  0.118  0.714  0.977         12   \n",
       "1  1j20qq1JyX4                     902  0.002  0.118  0.714  0.977         79   \n",
       "2  1j20qq1JyX4                     902  0.444  0.054  0.992  0.990         12   \n",
       "3  1j20qq1JyX4                     902  0.444  0.054  0.992  0.990         17   \n",
       "4  1j20qq1JyX4                     902  0.444  0.054  0.992  0.990         79   \n",
       "\n",
       "   person_id  \n",
       "0          1  \n",
       "1          1  \n",
       "2          0  \n",
       "3          0  \n",
       "4          0  "
      ]
     },
     "execution_count": 17,
     "metadata": {},
     "output_type": "execute_result"
    }
   ],
   "source": [
    "# AVA Dataset\n",
    "import pandas as pd\n",
    "## seting up and reading it\n",
    "root_dir = \"/work/bjuncek/AVA_actions/ava_val_v2.2.csv\"\n",
    "df = pd.read_csv(root_dir, names=[\"video_id\", \"middle_frame_timestamp\", \"x1\", \"y1\", \"x2\", \"y2\", \"action_id\", \"person_id\"])\n",
    "df.head()"
   ]
  },
  {
   "cell_type": "code",
   "execution_count": 19,
   "metadata": {},
   "outputs": [
    {
     "data": {
      "text/html": [
       "<div>\n",
       "<style scoped>\n",
       "    .dataframe tbody tr th:only-of-type {\n",
       "        vertical-align: middle;\n",
       "    }\n",
       "\n",
       "    .dataframe tbody tr th {\n",
       "        vertical-align: top;\n",
       "    }\n",
       "\n",
       "    .dataframe thead th {\n",
       "        text-align: right;\n",
       "    }\n",
       "</style>\n",
       "<table border=\"1\" class=\"dataframe\">\n",
       "  <thead>\n",
       "    <tr style=\"text-align: right;\">\n",
       "      <th></th>\n",
       "      <th>video_id</th>\n",
       "      <th>middle_frame_timestamp</th>\n",
       "      <th>x1</th>\n",
       "      <th>y1</th>\n",
       "      <th>x2</th>\n",
       "      <th>y2</th>\n",
       "      <th>action_id</th>\n",
       "      <th>person_id</th>\n",
       "    </tr>\n",
       "  </thead>\n",
       "  <tbody>\n",
       "    <tr>\n",
       "      <th>0</th>\n",
       "      <td>1j20qq1JyX4</td>\n",
       "      <td>902</td>\n",
       "      <td>[0.002, 0.002, 0.444, 0.444, 0.444]</td>\n",
       "      <td>[0.11800000000000001, 0.11800000000000001, 0.0...</td>\n",
       "      <td>[0.7140000000000001, 0.7140000000000001, 0.992...</td>\n",
       "      <td>[0.977, 0.977, 0.99, 0.99, 0.99]</td>\n",
       "      <td>[12, 79, 12, 17, 79]</td>\n",
       "      <td>[1, 1, 0, 0, 0]</td>\n",
       "    </tr>\n",
       "    <tr>\n",
       "      <th>1</th>\n",
       "      <td>1j20qq1JyX4</td>\n",
       "      <td>903</td>\n",
       "      <td>[0.02, 0.02, 0.02]</td>\n",
       "      <td>[0.069, 0.069, 0.069]</td>\n",
       "      <td>[0.985, 0.985, 0.985]</td>\n",
       "      <td>[0.985, 0.985, 0.985]</td>\n",
       "      <td>[12, 17, 79]</td>\n",
       "      <td>[2, 2, 2]</td>\n",
       "    </tr>\n",
       "    <tr>\n",
       "      <th>2</th>\n",
       "      <td>1j20qq1JyX4</td>\n",
       "      <td>904</td>\n",
       "      <td>[0.015, 0.015, 0.015]</td>\n",
       "      <td>[0.052000000000000005, 0.052000000000000005, 0...</td>\n",
       "      <td>[1.0, 1.0, 1.0]</td>\n",
       "      <td>[0.9790000000000001, 0.9790000000000001, 0.979...</td>\n",
       "      <td>[12, 17, 79]</td>\n",
       "      <td>[2, 2, 2]</td>\n",
       "    </tr>\n",
       "    <tr>\n",
       "      <th>3</th>\n",
       "      <td>1j20qq1JyX4</td>\n",
       "      <td>905</td>\n",
       "      <td>[0.193, 0.193]</td>\n",
       "      <td>[0.016, 0.016]</td>\n",
       "      <td>[1.0, 1.0]</td>\n",
       "      <td>[0.978, 0.978]</td>\n",
       "      <td>[11, 74]</td>\n",
       "      <td>[3, 3]</td>\n",
       "    </tr>\n",
       "    <tr>\n",
       "      <th>4</th>\n",
       "      <td>1j20qq1JyX4</td>\n",
       "      <td>906</td>\n",
       "      <td>[0.175, 0.175, 0.175]</td>\n",
       "      <td>[0.001, 0.001, 0.001]</td>\n",
       "      <td>[0.995, 0.995, 0.995]</td>\n",
       "      <td>[1.0, 1.0, 1.0]</td>\n",
       "      <td>[11, 74, 80]</td>\n",
       "      <td>[3, 3, 3]</td>\n",
       "    </tr>\n",
       "    <tr>\n",
       "      <th>...</th>\n",
       "      <td>...</td>\n",
       "      <td>...</td>\n",
       "      <td>...</td>\n",
       "      <td>...</td>\n",
       "      <td>...</td>\n",
       "      <td>...</td>\n",
       "      <td>...</td>\n",
       "      <td>...</td>\n",
       "    </tr>\n",
       "    <tr>\n",
       "      <th>50247</th>\n",
       "      <td>zC5Fh2tTS1U</td>\n",
       "      <td>1793</td>\n",
       "      <td>[0.257, 0.257, 0.257, 0.374, 0.374, 0.374]</td>\n",
       "      <td>[0.415, 0.415, 0.415, 0.43799999999999994, 0.4...</td>\n",
       "      <td>[0.401, 0.401, 0.401, 0.514, 0.514, 0.514]</td>\n",
       "      <td>[0.632, 0.632, 0.632, 0.845, 0.845, 0.845]</td>\n",
       "      <td>[12, 79, 80, 12, 79, 80]</td>\n",
       "      <td>[386, 386, 386, 387, 387, 387]</td>\n",
       "    </tr>\n",
       "    <tr>\n",
       "      <th>50248</th>\n",
       "      <td>zC5Fh2tTS1U</td>\n",
       "      <td>1794</td>\n",
       "      <td>[0.309, 0.309, 0.309, 0.434, 0.434, 0.434]</td>\n",
       "      <td>[0.203, 0.203, 0.203, 0.203, 0.203, 0.203]</td>\n",
       "      <td>[0.455, 0.455, 0.455, 0.586, 0.586, 0.586]</td>\n",
       "      <td>[0.419, 0.419, 0.419, 0.797, 0.797, 0.797]</td>\n",
       "      <td>[12, 74, 80, 12, 79, 80]</td>\n",
       "      <td>[386, 386, 386, 387, 387, 387]</td>\n",
       "    </tr>\n",
       "    <tr>\n",
       "      <th>50249</th>\n",
       "      <td>zC5Fh2tTS1U</td>\n",
       "      <td>1795</td>\n",
       "      <td>[0.373, 0.373, 0.373, 0.505, 0.505]</td>\n",
       "      <td>[0.122, 0.122, 0.122, 0.14400000000000002, 0.1...</td>\n",
       "      <td>[0.525, 0.525, 0.525, 0.63, 0.63]</td>\n",
       "      <td>[0.344, 0.344, 0.344, 0.42700000000000005, 0.4...</td>\n",
       "      <td>[12, 74, 80, 12, 79]</td>\n",
       "      <td>[386, 386, 386, 387, 387]</td>\n",
       "    </tr>\n",
       "    <tr>\n",
       "      <th>50250</th>\n",
       "      <td>zC5Fh2tTS1U</td>\n",
       "      <td>1796</td>\n",
       "      <td>[0.515, 0.515, 0.515]</td>\n",
       "      <td>[0.14300000000000002, 0.14300000000000002, 0.1...</td>\n",
       "      <td>[0.639, 0.639, 0.639]</td>\n",
       "      <td>[0.431, 0.431, 0.431]</td>\n",
       "      <td>[12, 79, 80]</td>\n",
       "      <td>[387, 387, 387]</td>\n",
       "    </tr>\n",
       "    <tr>\n",
       "      <th>50251</th>\n",
       "      <td>zC5Fh2tTS1U</td>\n",
       "      <td>1797</td>\n",
       "      <td>[0.397, 0.397, 0.401, 0.401, 0.53, 0.53, 0.53]</td>\n",
       "      <td>[0.126, 0.126, 0.10300000000000001, 0.10300000...</td>\n",
       "      <td>[0.542, 0.542, 0.597, 0.597, 0.650999999999999...</td>\n",
       "      <td>[0.349, 0.349, 0.7, 0.7, 0.435, 0.435, 0.435]</td>\n",
       "      <td>[12, 74, 12, 74, 12, 79, 80]</td>\n",
       "      <td>[390, 390, 391, 391, 387, 387, 387]</td>\n",
       "    </tr>\n",
       "  </tbody>\n",
       "</table>\n",
       "<p>50252 rows × 8 columns</p>\n",
       "</div>"
      ],
      "text/plain": [
       "          video_id  middle_frame_timestamp  \\\n",
       "0      1j20qq1JyX4                     902   \n",
       "1      1j20qq1JyX4                     903   \n",
       "2      1j20qq1JyX4                     904   \n",
       "3      1j20qq1JyX4                     905   \n",
       "4      1j20qq1JyX4                     906   \n",
       "...            ...                     ...   \n",
       "50247  zC5Fh2tTS1U                    1793   \n",
       "50248  zC5Fh2tTS1U                    1794   \n",
       "50249  zC5Fh2tTS1U                    1795   \n",
       "50250  zC5Fh2tTS1U                    1796   \n",
       "50251  zC5Fh2tTS1U                    1797   \n",
       "\n",
       "                                                   x1  \\\n",
       "0                 [0.002, 0.002, 0.444, 0.444, 0.444]   \n",
       "1                                  [0.02, 0.02, 0.02]   \n",
       "2                               [0.015, 0.015, 0.015]   \n",
       "3                                      [0.193, 0.193]   \n",
       "4                               [0.175, 0.175, 0.175]   \n",
       "...                                               ...   \n",
       "50247      [0.257, 0.257, 0.257, 0.374, 0.374, 0.374]   \n",
       "50248      [0.309, 0.309, 0.309, 0.434, 0.434, 0.434]   \n",
       "50249             [0.373, 0.373, 0.373, 0.505, 0.505]   \n",
       "50250                           [0.515, 0.515, 0.515]   \n",
       "50251  [0.397, 0.397, 0.401, 0.401, 0.53, 0.53, 0.53]   \n",
       "\n",
       "                                                      y1  \\\n",
       "0      [0.11800000000000001, 0.11800000000000001, 0.0...   \n",
       "1                                  [0.069, 0.069, 0.069]   \n",
       "2      [0.052000000000000005, 0.052000000000000005, 0...   \n",
       "3                                         [0.016, 0.016]   \n",
       "4                                  [0.001, 0.001, 0.001]   \n",
       "...                                                  ...   \n",
       "50247  [0.415, 0.415, 0.415, 0.43799999999999994, 0.4...   \n",
       "50248         [0.203, 0.203, 0.203, 0.203, 0.203, 0.203]   \n",
       "50249  [0.122, 0.122, 0.122, 0.14400000000000002, 0.1...   \n",
       "50250  [0.14300000000000002, 0.14300000000000002, 0.1...   \n",
       "50251  [0.126, 0.126, 0.10300000000000001, 0.10300000...   \n",
       "\n",
       "                                                      x2  \\\n",
       "0      [0.7140000000000001, 0.7140000000000001, 0.992...   \n",
       "1                                  [0.985, 0.985, 0.985]   \n",
       "2                                        [1.0, 1.0, 1.0]   \n",
       "3                                             [1.0, 1.0]   \n",
       "4                                  [0.995, 0.995, 0.995]   \n",
       "...                                                  ...   \n",
       "50247         [0.401, 0.401, 0.401, 0.514, 0.514, 0.514]   \n",
       "50248         [0.455, 0.455, 0.455, 0.586, 0.586, 0.586]   \n",
       "50249                  [0.525, 0.525, 0.525, 0.63, 0.63]   \n",
       "50250                              [0.639, 0.639, 0.639]   \n",
       "50251  [0.542, 0.542, 0.597, 0.597, 0.650999999999999...   \n",
       "\n",
       "                                                      y2  \\\n",
       "0                       [0.977, 0.977, 0.99, 0.99, 0.99]   \n",
       "1                                  [0.985, 0.985, 0.985]   \n",
       "2      [0.9790000000000001, 0.9790000000000001, 0.979...   \n",
       "3                                         [0.978, 0.978]   \n",
       "4                                        [1.0, 1.0, 1.0]   \n",
       "...                                                  ...   \n",
       "50247         [0.632, 0.632, 0.632, 0.845, 0.845, 0.845]   \n",
       "50248         [0.419, 0.419, 0.419, 0.797, 0.797, 0.797]   \n",
       "50249  [0.344, 0.344, 0.344, 0.42700000000000005, 0.4...   \n",
       "50250                              [0.431, 0.431, 0.431]   \n",
       "50251      [0.349, 0.349, 0.7, 0.7, 0.435, 0.435, 0.435]   \n",
       "\n",
       "                          action_id                            person_id  \n",
       "0              [12, 79, 12, 17, 79]                      [1, 1, 0, 0, 0]  \n",
       "1                      [12, 17, 79]                            [2, 2, 2]  \n",
       "2                      [12, 17, 79]                            [2, 2, 2]  \n",
       "3                          [11, 74]                               [3, 3]  \n",
       "4                      [11, 74, 80]                            [3, 3, 3]  \n",
       "...                             ...                                  ...  \n",
       "50247      [12, 79, 80, 12, 79, 80]       [386, 386, 386, 387, 387, 387]  \n",
       "50248      [12, 74, 80, 12, 79, 80]       [386, 386, 386, 387, 387, 387]  \n",
       "50249          [12, 74, 80, 12, 79]            [386, 386, 386, 387, 387]  \n",
       "50250                  [12, 79, 80]                      [387, 387, 387]  \n",
       "50251  [12, 74, 12, 74, 12, 79, 80]  [390, 390, 391, 391, 387, 387, 387]  \n",
       "\n",
       "[50252 rows x 8 columns]"
      ]
     },
     "execution_count": 19,
     "metadata": {},
     "output_type": "execute_result"
    }
   ],
   "source": [
    "df = (df.groupby(['video_id', 'middle_frame_timestamp'], as_index=False)\n",
    "      .agg(lambda x: list(x)))\n",
    "df"
   ]
  },
  {
   "cell_type": "code",
   "execution_count": 1,
   "metadata": {},
   "outputs": [
    {
     "ename": "RuntimeError",
     "evalue": "StreamReader requires FFmpeg extension which is not available. Please refer to the stacktrace above for how to resolve this.",
     "output_type": "error",
     "traceback": [
      "\u001b[0;31m---------------------------------------------------------------------------\u001b[0m",
      "\u001b[0;31mOSError\u001b[0m                                   Traceback (most recent call last)",
      "File \u001b[0;32m~/.conda/envs/vb/lib/python3.10/site-packages/torchaudio/_extension/utils.py:85\u001b[0m, in \u001b[0;36m_init_ffmpeg\u001b[0;34m()\u001b[0m\n\u001b[1;32m     84\u001b[0m \u001b[39mtry\u001b[39;00m:\n\u001b[0;32m---> 85\u001b[0m     _load_lib(\u001b[39m\"\u001b[39;49m\u001b[39mlibtorchaudio_ffmpeg\u001b[39;49m\u001b[39m\"\u001b[39;49m)\n\u001b[1;32m     86\u001b[0m \u001b[39mexcept\u001b[39;00m \u001b[39mOSError\u001b[39;00m \u001b[39mas\u001b[39;00m err:\n",
      "File \u001b[0;32m~/.conda/envs/vb/lib/python3.10/site-packages/torchaudio/_extension/utils.py:61\u001b[0m, in \u001b[0;36m_load_lib\u001b[0;34m(lib)\u001b[0m\n\u001b[1;32m     60\u001b[0m     \u001b[39mreturn\u001b[39;00m \u001b[39mFalse\u001b[39;00m\n\u001b[0;32m---> 61\u001b[0m torch\u001b[39m.\u001b[39;49mops\u001b[39m.\u001b[39;49mload_library(path)\n\u001b[1;32m     62\u001b[0m torch\u001b[39m.\u001b[39mclasses\u001b[39m.\u001b[39mload_library(path)\n",
      "File \u001b[0;32m~/.conda/envs/vb/lib/python3.10/site-packages/torch/_ops.py:640\u001b[0m, in \u001b[0;36m_Ops.load_library\u001b[0;34m(self, path)\u001b[0m\n\u001b[1;32m    636\u001b[0m \u001b[39mwith\u001b[39;00m dl_open_guard():\n\u001b[1;32m    637\u001b[0m     \u001b[39m# Import the shared library into the process, thus running its\u001b[39;00m\n\u001b[1;32m    638\u001b[0m     \u001b[39m# static (global) initialization code in order to register custom\u001b[39;00m\n\u001b[1;32m    639\u001b[0m     \u001b[39m# operators with the JIT.\u001b[39;00m\n\u001b[0;32m--> 640\u001b[0m     ctypes\u001b[39m.\u001b[39;49mCDLL(path)\n\u001b[1;32m    641\u001b[0m \u001b[39mself\u001b[39m\u001b[39m.\u001b[39mloaded_libraries\u001b[39m.\u001b[39madd(path)\n",
      "File \u001b[0;32m~/.conda/envs/vb/lib/python3.10/ctypes/__init__.py:374\u001b[0m, in \u001b[0;36mCDLL.__init__\u001b[0;34m(self, name, mode, handle, use_errno, use_last_error, winmode)\u001b[0m\n\u001b[1;32m    373\u001b[0m \u001b[39mif\u001b[39;00m handle \u001b[39mis\u001b[39;00m \u001b[39mNone\u001b[39;00m:\n\u001b[0;32m--> 374\u001b[0m     \u001b[39mself\u001b[39m\u001b[39m.\u001b[39m_handle \u001b[39m=\u001b[39m _dlopen(\u001b[39mself\u001b[39;49m\u001b[39m.\u001b[39;49m_name, mode)\n\u001b[1;32m    375\u001b[0m \u001b[39melse\u001b[39;00m:\n",
      "\u001b[0;31mOSError\u001b[0m: libavdevice.so.58: cannot open shared object file: No such file or directory",
      "\nThe above exception was the direct cause of the following exception:\n",
      "\u001b[0;31mImportError\u001b[0m                               Traceback (most recent call last)",
      "File \u001b[0;32m~/.conda/envs/vb/lib/python3.10/site-packages/torchaudio/_extension/utils.py:134\u001b[0m, in \u001b[0;36m_fail_since_no_ffmpeg.<locals>.wrapped\u001b[0;34m(*_args, **_kwargs)\u001b[0m\n\u001b[1;32m    130\u001b[0m \u001b[39mtry\u001b[39;00m:\n\u001b[1;32m    131\u001b[0m     \u001b[39m# Note:\u001b[39;00m\n\u001b[1;32m    132\u001b[0m     \u001b[39m# We run _init_ffmpeg again just to show users the stacktrace.\u001b[39;00m\n\u001b[1;32m    133\u001b[0m     \u001b[39m# _init_ffmpeg would not succeed here.\u001b[39;00m\n\u001b[0;32m--> 134\u001b[0m     _init_ffmpeg()\n\u001b[1;32m    135\u001b[0m \u001b[39mexcept\u001b[39;00m \u001b[39mException\u001b[39;00m \u001b[39mas\u001b[39;00m err:\n",
      "File \u001b[0;32m~/.conda/envs/vb/lib/python3.10/site-packages/torchaudio/_extension/utils.py:87\u001b[0m, in \u001b[0;36m_init_ffmpeg\u001b[0;34m()\u001b[0m\n\u001b[1;32m     86\u001b[0m \u001b[39mexcept\u001b[39;00m \u001b[39mOSError\u001b[39;00m \u001b[39mas\u001b[39;00m err:\n\u001b[0;32m---> 87\u001b[0m     \u001b[39mraise\u001b[39;00m \u001b[39mImportError\u001b[39;00m(\u001b[39m\"\u001b[39m\u001b[39mFFmpeg libraries are not found. Please install FFmpeg.\u001b[39m\u001b[39m\"\u001b[39m) \u001b[39mfrom\u001b[39;00m \u001b[39merr\u001b[39;00m\n\u001b[1;32m     89\u001b[0m \u001b[39mimport\u001b[39;00m torchaudio\u001b[39m.\u001b[39mlib\u001b[39m.\u001b[39m_torchaudio_ffmpeg  \u001b[39m# noqa\u001b[39;00m\n",
      "\u001b[0;31mImportError\u001b[0m: FFmpeg libraries are not found. Please install FFmpeg.",
      "\nThe above exception was the direct cause of the following exception:\n",
      "\u001b[0;31mRuntimeError\u001b[0m                              Traceback (most recent call last)",
      "Cell \u001b[0;32mIn[1], line 2\u001b[0m\n\u001b[1;32m      1\u001b[0m \u001b[39mfrom\u001b[39;00m \u001b[39mtorchaudio\u001b[39;00m\u001b[39m.\u001b[39;00m\u001b[39mio\u001b[39;00m \u001b[39mimport\u001b[39;00m StreamReader\n\u001b[0;32m----> 2\u001b[0m sr \u001b[39m=\u001b[39m StreamReader(\u001b[39m\"\u001b[39;49m\u001b[39m./videos/SOX5yA1l24A.mp4\u001b[39;49m\u001b[39m\"\u001b[39;49m)\n",
      "File \u001b[0;32m~/.conda/envs/vb/lib/python3.10/site-packages/torchaudio/_extension/utils.py:136\u001b[0m, in \u001b[0;36m_fail_since_no_ffmpeg.<locals>.wrapped\u001b[0;34m(*_args, **_kwargs)\u001b[0m\n\u001b[1;32m    134\u001b[0m     _init_ffmpeg()\n\u001b[1;32m    135\u001b[0m \u001b[39mexcept\u001b[39;00m \u001b[39mException\u001b[39;00m \u001b[39mas\u001b[39;00m err:\n\u001b[0;32m--> 136\u001b[0m     \u001b[39mraise\u001b[39;00m \u001b[39mRuntimeError\u001b[39;00m(\n\u001b[1;32m    137\u001b[0m         \u001b[39mf\u001b[39m\u001b[39m\"\u001b[39m\u001b[39m{\u001b[39;00mfunc\u001b[39m.\u001b[39m\u001b[39m__name__\u001b[39m\u001b[39m}\u001b[39;00m\u001b[39m requires FFmpeg extension which is not available. \u001b[39m\u001b[39m\"\u001b[39m\n\u001b[1;32m    138\u001b[0m         \u001b[39m\"\u001b[39m\u001b[39mPlease refer to the stacktrace above for how to resolve this.\u001b[39m\u001b[39m\"\u001b[39m\n\u001b[1;32m    139\u001b[0m     ) \u001b[39mfrom\u001b[39;00m \u001b[39merr\u001b[39;00m\n\u001b[1;32m    140\u001b[0m \u001b[39m# This should not happen in normal execution, but just in case.\u001b[39;00m\n\u001b[1;32m    141\u001b[0m \u001b[39mreturn\u001b[39;00m func(\u001b[39m*\u001b[39m_args, \u001b[39m*\u001b[39m\u001b[39m*\u001b[39m_kwargs)\n",
      "\u001b[0;31mRuntimeError\u001b[0m: StreamReader requires FFmpeg extension which is not available. Please refer to the stacktrace above for how to resolve this."
     ]
    }
   ],
   "source": [
    "from torchaudio.io import StreamReader\n",
    "sr = StreamReader(\"./videos/SOX5yA1l24A.mp4\")"
   ]
  },
  {
   "cell_type": "code",
   "execution_count": null,
   "metadata": {},
   "outputs": [],
   "source": []
  }
 ],
 "metadata": {
  "kernelspec": {
   "display_name": "vb",
   "language": "python",
   "name": "python3"
  },
  "language_info": {
   "codemirror_mode": {
    "name": "ipython",
    "version": 3
   },
   "file_extension": ".py",
   "mimetype": "text/x-python",
   "name": "python",
   "nbconvert_exporter": "python",
   "pygments_lexer": "ipython3",
   "version": "3.10.9"
  },
  "vscode": {
   "interpreter": {
    "hash": "367ef8e4055d0b49b3bbcb1c109b273625fd75a1287b3e82968e22ee48e12e3e"
   }
  }
 },
 "nbformat": 4,
 "nbformat_minor": 4
}
