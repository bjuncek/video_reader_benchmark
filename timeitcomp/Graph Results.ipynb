{
 "cells": [
  {
   "cell_type": "code",
   "execution_count": 11,
   "metadata": {},
   "outputs": [],
   "source": [
    "from os import listdir\n",
    "from os.path import isfile, join\n",
    "\n",
    "import pandas as pd\n",
    "import seaborn as sns\n",
    "import matplotlib.pyplot as plt"
   ]
  },
  {
   "cell_type": "code",
   "execution_count": 12,
   "metadata": {},
   "outputs": [
    {
     "name": "stdout",
     "output_type": "stream",
     "text": [
      "['pyav.csv', 'tv_newAPI.csv', 'tv_pyav.csv']\n"
     ]
    }
   ],
   "source": [
    "files = [f for f in listdir(\"./out/\") if isfile(join(\"./out\", f)) and not f in [\"cv2.csv\", \"decord.csv\", \"tv_vr.csv\"]]\n",
    "print(files)"
   ]
  },
  {
   "cell_type": "code",
   "execution_count": 13,
   "metadata": {},
   "outputs": [
    {
     "data": {
      "text/html": [
       "<div>\n",
       "<style scoped>\n",
       "    .dataframe tbody tr th:only-of-type {\n",
       "        vertical-align: middle;\n",
       "    }\n",
       "\n",
       "    .dataframe tbody tr th {\n",
       "        vertical-align: top;\n",
       "    }\n",
       "\n",
       "    .dataframe thead th {\n",
       "        text-align: right;\n",
       "    }\n",
       "</style>\n",
       "<table border=\"1\" class=\"dataframe\">\n",
       "  <thead>\n",
       "    <tr style=\"text-align: right;\">\n",
       "      <th></th>\n",
       "      <th>Unnamed: 0</th>\n",
       "      <th>loader</th>\n",
       "      <th>video</th>\n",
       "      <th>time</th>\n",
       "      <th>num_frames</th>\n",
       "      <th>lib_version</th>\n",
       "    </tr>\n",
       "  </thead>\n",
       "  <tbody>\n",
       "    <tr>\n",
       "      <th>0</th>\n",
       "      <td>0</td>\n",
       "      <td>pyav</td>\n",
       "      <td>RATRACE_wave_f_nm_np1_fr_goo_37.avi</td>\n",
       "      <td>0.040757</td>\n",
       "      <td>72</td>\n",
       "      <td>8.0.2</td>\n",
       "    </tr>\n",
       "    <tr>\n",
       "      <th>1</th>\n",
       "      <td>1</td>\n",
       "      <td>pyav</td>\n",
       "      <td>TrumanShow_wave_f_nm_np1_fr_med_26.avi</td>\n",
       "      <td>0.019241</td>\n",
       "      <td>48</td>\n",
       "      <td>8.0.2</td>\n",
       "    </tr>\n",
       "    <tr>\n",
       "      <th>2</th>\n",
       "      <td>2</td>\n",
       "      <td>pyav</td>\n",
       "      <td>SchoolRulesHowTheyHelpUs_wave_f_nm_np1_ba_med_...</td>\n",
       "      <td>0.025917</td>\n",
       "      <td>74</td>\n",
       "      <td>8.0.2</td>\n",
       "    </tr>\n",
       "    <tr>\n",
       "      <th>3</th>\n",
       "      <td>3</td>\n",
       "      <td>pyav</td>\n",
       "      <td>v_SoccerJuggling_g24_c01.avi</td>\n",
       "      <td>0.082928</td>\n",
       "      <td>251</td>\n",
       "      <td>8.0.2</td>\n",
       "    </tr>\n",
       "    <tr>\n",
       "      <th>4</th>\n",
       "      <td>4</td>\n",
       "      <td>pyav</td>\n",
       "      <td>v_SoccerJuggling_g23_c01.avi</td>\n",
       "      <td>0.088360</td>\n",
       "      <td>240</td>\n",
       "      <td>8.0.2</td>\n",
       "    </tr>\n",
       "    <tr>\n",
       "      <th>...</th>\n",
       "      <td>...</td>\n",
       "      <td>...</td>\n",
       "      <td>...</td>\n",
       "      <td>...</td>\n",
       "      <td>...</td>\n",
       "      <td>...</td>\n",
       "    </tr>\n",
       "    <tr>\n",
       "      <th>45</th>\n",
       "      <td>45</td>\n",
       "      <td>tv_videoreader</td>\n",
       "      <td>RATRACE_wave_f_nm_np1_fr_goo_37.avi</td>\n",
       "      <td>0.026812</td>\n",
       "      <td>72</td>\n",
       "      <td>0.8.0a0+c624266</td>\n",
       "    </tr>\n",
       "    <tr>\n",
       "      <th>46</th>\n",
       "      <td>46</td>\n",
       "      <td>tv_videoreader</td>\n",
       "      <td>TrumanShow_wave_f_nm_np1_fr_med_26.avi</td>\n",
       "      <td>0.015649</td>\n",
       "      <td>48</td>\n",
       "      <td>0.8.0a0+c624266</td>\n",
       "    </tr>\n",
       "    <tr>\n",
       "      <th>47</th>\n",
       "      <td>47</td>\n",
       "      <td>tv_videoreader</td>\n",
       "      <td>SchoolRulesHowTheyHelpUs_wave_f_nm_np1_ba_med_...</td>\n",
       "      <td>0.017253</td>\n",
       "      <td>74</td>\n",
       "      <td>0.8.0a0+c624266</td>\n",
       "    </tr>\n",
       "    <tr>\n",
       "      <th>48</th>\n",
       "      <td>48</td>\n",
       "      <td>tv_videoreader</td>\n",
       "      <td>v_SoccerJuggling_g24_c01.avi</td>\n",
       "      <td>0.049104</td>\n",
       "      <td>251</td>\n",
       "      <td>0.8.0a0+c624266</td>\n",
       "    </tr>\n",
       "    <tr>\n",
       "      <th>49</th>\n",
       "      <td>49</td>\n",
       "      <td>tv_videoreader</td>\n",
       "      <td>v_SoccerJuggling_g23_c01.avi</td>\n",
       "      <td>0.054358</td>\n",
       "      <td>240</td>\n",
       "      <td>0.8.0a0+c624266</td>\n",
       "    </tr>\n",
       "  </tbody>\n",
       "</table>\n",
       "<p>150 rows × 6 columns</p>\n",
       "</div>"
      ],
      "text/plain": [
       "    Unnamed: 0          loader  \\\n",
       "0            0            pyav   \n",
       "1            1            pyav   \n",
       "2            2            pyav   \n",
       "3            3            pyav   \n",
       "4            4            pyav   \n",
       "..         ...             ...   \n",
       "45          45  tv_videoreader   \n",
       "46          46  tv_videoreader   \n",
       "47          47  tv_videoreader   \n",
       "48          48  tv_videoreader   \n",
       "49          49  tv_videoreader   \n",
       "\n",
       "                                                video      time  num_frames  \\\n",
       "0                 RATRACE_wave_f_nm_np1_fr_goo_37.avi  0.040757          72   \n",
       "1              TrumanShow_wave_f_nm_np1_fr_med_26.avi  0.019241          48   \n",
       "2   SchoolRulesHowTheyHelpUs_wave_f_nm_np1_ba_med_...  0.025917          74   \n",
       "3                        v_SoccerJuggling_g24_c01.avi  0.082928         251   \n",
       "4                        v_SoccerJuggling_g23_c01.avi  0.088360         240   \n",
       "..                                                ...       ...         ...   \n",
       "45                RATRACE_wave_f_nm_np1_fr_goo_37.avi  0.026812          72   \n",
       "46             TrumanShow_wave_f_nm_np1_fr_med_26.avi  0.015649          48   \n",
       "47  SchoolRulesHowTheyHelpUs_wave_f_nm_np1_ba_med_...  0.017253          74   \n",
       "48                       v_SoccerJuggling_g24_c01.avi  0.049104         251   \n",
       "49                       v_SoccerJuggling_g23_c01.avi  0.054358         240   \n",
       "\n",
       "        lib_version  \n",
       "0             8.0.2  \n",
       "1             8.0.2  \n",
       "2             8.0.2  \n",
       "3             8.0.2  \n",
       "4             8.0.2  \n",
       "..              ...  \n",
       "45  0.8.0a0+c624266  \n",
       "46  0.8.0a0+c624266  \n",
       "47  0.8.0a0+c624266  \n",
       "48  0.8.0a0+c624266  \n",
       "49  0.8.0a0+c624266  \n",
       "\n",
       "[150 rows x 6 columns]"
      ]
     },
     "execution_count": 13,
     "metadata": {},
     "output_type": "execute_result"
    }
   ],
   "source": [
    "df = pd.DataFrame()\n",
    "for f in files:\n",
    "    df = pd.concat([df, pd.read_csv(join(\"./out\", f))])\n",
    "df"
   ]
  },
  {
   "cell_type": "code",
   "execution_count": 14,
   "metadata": {},
   "outputs": [
    {
     "data": {
      "text/plain": [
       "(array([0, 1, 2]),\n",
       " [Text(0, 0, 'pyav'), Text(1, 0, 'newAPI'), Text(2, 0, 'tv_videoreader')])"
      ]
     },
     "execution_count": 14,
     "metadata": {},
     "output_type": "execute_result"
    },
    {
     "data": {
      "image/png": "[encoded data removed]",
      "text/plain": [
       "<Figure size 432x288 with 1 Axes>"
      ]
     },
     "metadata": {
      "needs_background": "light"
     },
     "output_type": "display_data"
    }
   ],
   "source": [
    "df[\"time_per_frame\"] = df['time'] / df['num_frames']\n",
    "import matplotlib.pylab as plt\n",
    "ax = sns.boxplot(x=\"loader\", y=\"time_per_frame\", data=df)\n",
    "plt.xticks(rotation=90)\n"
   ]
  },
  {
   "cell_type": "code",
   "execution_count": 15,
   "metadata": {},
   "outputs": [
    {
     "name": "stderr",
     "output_type": "stream",
     "text": [
      "/home/bjuncek/miniconda3/envs/tvdev/lib/python3.8/site-packages/seaborn/axisgrid.py:645: UserWarning: Using the boxplot function without specifying `order` is likely to produce an incorrect plot.\n",
      "  warnings.warn(warning)\n"
     ]
    },
    {
     "data": {
      "text/plain": [
       "<seaborn.axisgrid.FacetGrid at 0x7fcd07182700>"
      ]
     },
     "execution_count": 15,
     "metadata": {},
     "output_type": "execute_result"
    },
    {
     "data": {
      "image/png": "[encoded data removed]",
      "text/plain": [
       "<Figure size 1152x864 with 5 Axes>"
      ]
     },
     "metadata": {
      "needs_background": "light"
     },
     "output_type": "display_data"
    }
   ],
   "source": [
    "df[\"time_per_frame\"] = df['time'] / df['num_frames']\n",
    "\n",
    "\n",
    "g = sns.FacetGrid(df, col=\"video\", col_wrap=2, height=4, aspect=2, sharey=False)\n",
    "g = g.map(sns.boxplot, \"loader\", \"time_per_frame\", showfliers = False)\n",
    "g.set_xticklabels(rotation=90)"
   ]
  },
  {
   "cell_type": "markdown",
   "metadata": {},
   "source": [
    "| **function**               | **return type**             | **return description**                     | **?decoding** | **?filling tensor with decoded values** |\n",
    "|----------------------------|-----------------------------|--------------------------------------------|---------------|-----------------------------------------|\n",
    "| `next_list`                | torch::List<torch::Tensor>  | torch::Tensor({h, w, 3}), torch::zero({0}) | Yes           | Yes                                     |\n",
    "| `next_tensor`              | torch::Tensor               | torch::Tensor({h, w, 3})                   | Yes           | Yes                                     |\n",
    "| `next_list_dummy_tensor`   | torch::List <torch::Tensor> | torch::ones({h, w, 3}), torch::zero({0})   | Yes           | No (calls torch::ones)                  |\n",
    "| `next_tensor_dummy_tensor` | torch::Tensor               | torch::ones({h, w, 3})                     | Yes           | No (calls torch::ones)                  |\n",
    "| `next_int_numframes`       | int64_T                     | 1 if decoded successfully, 0 otherwise     | Yes           | No                                      |"
   ]
  },
  {
   "cell_type": "code",
   "execution_count": 11,
   "metadata": {},
   "outputs": [
    {
     "name": "stderr",
     "output_type": "stream",
     "text": [
      "<ipython-input-11-8ec252515777>:2: SettingWithCopyWarning: \n",
      "A value is trying to be set on a copy of a slice from a DataFrame\n",
      "\n",
      "See the caveats in the documentation: https://pandas.pydata.org/pandas-docs/stable/user_guide/indexing.html#returning-a-view-versus-a-copy\n",
      "  df['pyv4'][df.loader==\"pyav\"] = df['pyv4'][df.loader==\"pyav\"] + 0.00035\n",
      "/home/bjuncek/miniconda3/envs/tvdev/lib/python3.8/site-packages/pandas/core/indexing.py:670: SettingWithCopyWarning: \n",
      "A value is trying to be set on a copy of a slice from a DataFrame\n",
      "\n",
      "See the caveats in the documentation: https://pandas.pydata.org/pandas-docs/stable/user_guide/indexing.html#returning-a-view-versus-a-copy\n",
      "  iloc._setitem_with_indexer(indexer, value)\n"
     ]
    }
   ],
   "source": [
    "df[\"pyv4\"] = df[\"time_per_frame\"] * 1000\n",
    "df['pyv4'][df.loader==\"pyav\"] = df['pyv4'][df.loader==\"pyav\"] + 0.00035"
   ]
  },
  {
   "cell_type": "code",
   "execution_count": 81,
   "metadata": {},
   "outputs": [
    {
     "data": {
      "text/html": [
       "<div>\n",
       "<style scoped>\n",
       "    .dataframe tbody tr th:only-of-type {\n",
       "        vertical-align: middle;\n",
       "    }\n",
       "\n",
       "    .dataframe tbody tr th {\n",
       "        vertical-align: top;\n",
       "    }\n",
       "\n",
       "    .dataframe thead th {\n",
       "        text-align: right;\n",
       "    }\n",
       "</style>\n",
       "<table border=\"1\" class=\"dataframe\">\n",
       "  <thead>\n",
       "    <tr style=\"text-align: right;\">\n",
       "      <th></th>\n",
       "      <th>Unnamed: 0</th>\n",
       "      <th>loader</th>\n",
       "      <th>video</th>\n",
       "      <th>time</th>\n",
       "      <th>num_frames</th>\n",
       "      <th>lib_version</th>\n",
       "      <th>time_per_frame</th>\n",
       "      <th>pyv4</th>\n",
       "    </tr>\n",
       "  </thead>\n",
       "  <tbody>\n",
       "    <tr>\n",
       "      <th>0</th>\n",
       "      <td>0</td>\n",
       "      <td>pyav</td>\n",
       "      <td>RATRACE_wave_f_nm_np1_fr_goo_37.avi</td>\n",
       "      <td>0.034310</td>\n",
       "      <td>72</td>\n",
       "      <td>8.0.2</td>\n",
       "      <td>0.000477</td>\n",
       "      <td>0.000877</td>\n",
       "    </tr>\n",
       "    <tr>\n",
       "      <th>1</th>\n",
       "      <td>1</td>\n",
       "      <td>pyav</td>\n",
       "      <td>TrumanShow_wave_f_nm_np1_fr_med_26.avi</td>\n",
       "      <td>0.017768</td>\n",
       "      <td>48</td>\n",
       "      <td>8.0.2</td>\n",
       "      <td>0.000370</td>\n",
       "      <td>0.000770</td>\n",
       "    </tr>\n",
       "    <tr>\n",
       "      <th>2</th>\n",
       "      <td>2</td>\n",
       "      <td>pyav</td>\n",
       "      <td>SOX5yA1l24A.mp4</td>\n",
       "      <td>0.200105</td>\n",
       "      <td>332</td>\n",
       "      <td>8.0.2</td>\n",
       "      <td>0.000603</td>\n",
       "      <td>0.001003</td>\n",
       "    </tr>\n",
       "    <tr>\n",
       "      <th>3</th>\n",
       "      <td>3</td>\n",
       "      <td>pyav</td>\n",
       "      <td>SchoolRulesHowTheyHelpUs_wave_f_nm_np1_ba_med_...</td>\n",
       "      <td>0.022261</td>\n",
       "      <td>74</td>\n",
       "      <td>8.0.2</td>\n",
       "      <td>0.000301</td>\n",
       "      <td>0.000701</td>\n",
       "    </tr>\n",
       "    <tr>\n",
       "      <th>4</th>\n",
       "      <td>4</td>\n",
       "      <td>pyav</td>\n",
       "      <td>WUzgd7C1pWA.mp4</td>\n",
       "      <td>0.241122</td>\n",
       "      <td>327</td>\n",
       "      <td>8.0.2</td>\n",
       "      <td>0.000737</td>\n",
       "      <td>0.001137</td>\n",
       "    </tr>\n",
       "  </tbody>\n",
       "</table>\n",
       "</div>"
      ],
      "text/plain": [
       "   Unnamed: 0 loader                                              video  \\\n",
       "0           0   pyav                RATRACE_wave_f_nm_np1_fr_goo_37.avi   \n",
       "1           1   pyav             TrumanShow_wave_f_nm_np1_fr_med_26.avi   \n",
       "2           2   pyav                                    SOX5yA1l24A.mp4   \n",
       "3           3   pyav  SchoolRulesHowTheyHelpUs_wave_f_nm_np1_ba_med_...   \n",
       "4           4   pyav                                    WUzgd7C1pWA.mp4   \n",
       "\n",
       "       time  num_frames lib_version  time_per_frame      pyv4  \n",
       "0  0.034310          72       8.0.2        0.000477  0.000877  \n",
       "1  0.017768          48       8.0.2        0.000370  0.000770  \n",
       "2  0.200105         332       8.0.2        0.000603  0.001003  \n",
       "3  0.022261          74       8.0.2        0.000301  0.000701  \n",
       "4  0.241122         327       8.0.2        0.000737  0.001137  "
      ]
     },
     "execution_count": 81,
     "metadata": {},
     "output_type": "execute_result"
    }
   ],
   "source": [
    "df.head()"
   ]
  },
  {
   "cell_type": "code",
   "execution_count": 22,
   "metadata": {},
   "outputs": [],
   "source": [
    "df[\"time_per_frame\"] = df['time'] / df['num_frames']"
   ]
  },
  {
   "cell_type": "code",
   "execution_count": 23,
   "metadata": {},
   "outputs": [
    {
     "data": {
      "text/plain": [
       "<AxesSubplot:xlabel='loader', ylabel='time_per_frame'>"
      ]
     },
     "execution_count": 23,
     "metadata": {},
     "output_type": "execute_result"
    },
    {
     "data": {
      "image/png": "[encoded data removed]",
      "text/plain": [
       "<Figure size 432x288 with 1 Axes>"
      ]
     },
     "metadata": {
      "needs_background": "light"
     },
     "output_type": "display_data"
    }
   ],
   "source": [
    "sns.boxplot(x=\"loader\", y=\"time_per_frame\", data=df)"
   ]
  },
  {
   "cell_type": "code",
   "execution_count": null,
   "metadata": {},
   "outputs": [],
   "source": []
  },
  {
   "cell_type": "code",
   "execution_count": null,
   "metadata": {},
   "outputs": [],
   "source": []
  },
  {
   "cell_type": "raw",
   "metadata": {},
   "source": []
  },
  {
   "cell_type": "code",
   "execution_count": null,
   "metadata": {},
   "outputs": [],
   "source": []
  }
 ],
 "metadata": {
  "kernelspec": {
   "display_name": "Python 3",
   "language": "python",
   "name": "python3"
  },
  "language_info": {
   "codemirror_mode": {
    "name": "ipython",
    "version": 3
   },
   "file_extension": ".py",
   "mimetype": "text/x-python",
   "name": "python",
   "nbconvert_exporter": "python",
   "pygments_lexer": "ipython3",
   "version": "3.8.5"
  }
 },
 "nbformat": 4,
 "nbformat_minor": 4
}
