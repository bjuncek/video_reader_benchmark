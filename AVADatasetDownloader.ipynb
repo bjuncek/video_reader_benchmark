{
 "cells": [
  {
   "cell_type": "code",
   "execution_count": 1,
   "metadata": {},
   "outputs": [],
   "source": [
    "import os\n",
    "import wget\n",
    "import pandas as pd"
   ]
  },
  {
   "cell_type": "code",
   "execution_count": 4,
   "metadata": {},
   "outputs": [],
   "source": [
    "root_dir = \"/work/bjuncek/AVA_actions/\"\n",
    "trainval_url = \"https://s3.amazonaws.com/ava-dataset/annotations/ava_file_names_trainval_v2.1.txt\"\n",
    "test_url = \"https://s3.amazonaws.com/ava-dataset/annotations/ava_file_names_test_v2.1.txt\"\n",
    "\n",
    "\n",
    "trainval_path = os.path.join(root_dir, \"ava_file_names_trainval_v2.1.txt\")\n",
    "test_path = os.path.join(root_dir, \"ava_file_names_test_v2.1.txt\")\n",
    "\n",
    "if not os.path.exists(trainval_path):\n",
    "    wget.download(trainval_url, trainval_path)\n",
    "    \n",
    "if not os.path.exists(test_path):\n",
    "    wget.download(test_url, test_path)\n"
   ]
  },
  {
   "cell_type": "code",
   "execution_count": null,
   "metadata": {},
   "outputs": [
    {
     "name": "stdout",
     "output_type": "stream",
     "text": [
      "_-Z6wFjXtGQ.mkv /work/bjuncek/AVA_actions/data/train/_-Z6wFjXtGQ.mkv\n",
      "[]_145Aa_xkuE.mp4 /work/bjuncek/AVA_actions/data/train/_145Aa_xkuE.mp4\n",
      "[]_a9SWtcaNj8.mkv /work/bjuncek/AVA_actions/data/train/_a9SWtcaNj8.mkv\n",
      "[]_Ca3gOdOHxU.mp4 /work/bjuncek/AVA_actions/data/train/_Ca3gOdOHxU.mp4\n",
      "[]_ithRWANKB0.mp4 /work/bjuncek/AVA_actions/data/train/_ithRWANKB0.mp4\n",
      "[]_mAfwH6i90E.mkv /work/bjuncek/AVA_actions/data/train/_mAfwH6i90E.mkv\n",
      "[]-5KQ66BBWC4.mkv /work/bjuncek/AVA_actions/data/train/-5KQ66BBWC4.mkv\n",
      "[]-FaXLcSFjUI.mp4 /work/bjuncek/AVA_actions/data/train/-FaXLcSFjUI.mp4\n",
      "[]-IELREHX_js.mp4 /work/bjuncek/AVA_actions/data/train/-IELREHX_js.mp4\n",
      "[]-OyDO1g74vc.mp4 /work/bjuncek/AVA_actions/data/train/-OyDO1g74vc.mp4\n",
      "[]-XpUuIgyUHE.mp4 /work/bjuncek/AVA_actions/data/train/-XpUuIgyUHE.mp4\n",
      "[]-ZFgsrolSxo.mkv /work/bjuncek/AVA_actions/data/train/-ZFgsrolSxo.mkv\n",
      "[]053oq2xB3oU.mkv /work/bjuncek/AVA_actions/data/train/053oq2xB3oU.mkv\n",
      "[]0f39OWEqJ24.mp4 /work/bjuncek/AVA_actions/data/train/0f39OWEqJ24.mp4\n",
      "[]0wBYFahr3uI.mp4 /work/bjuncek/AVA_actions/data/train/0wBYFahr3uI.mp4\n",
      "[]1ReZIMmD_8E.mp4 /work/bjuncek/AVA_actions/data/train/1ReZIMmD_8E.mp4\n",
      "[]26V9UzqSguo.mp4 /work/bjuncek/AVA_actions/data/train/26V9UzqSguo.mp4\n",
      "[]2bxKkUgcqpk.mp4 /work/bjuncek/AVA_actions/data/train/2bxKkUgcqpk.mp4\n",
      "[]2DUITARAsWQ.mp4 /work/bjuncek/AVA_actions/data/train/2DUITARAsWQ.mp4\n",
      "[]2E_e8JlvTlg.mkv /work/bjuncek/AVA_actions/data/train/2E_e8JlvTlg.mkv\n",
      "[]2FIHxnZKg6A.webm /work/bjuncek/AVA_actions/data/train/2FIHxnZKg6A.webm\n",
      "[]2fwni_Kjf2M.mkv /work/bjuncek/AVA_actions/data/train/2fwni_Kjf2M.mkv\n",
      "[]2KpThOF_QmE.mkv /work/bjuncek/AVA_actions/data/train/2KpThOF_QmE.mkv\n",
      "[]2qQs3Y9OJX0.mkv /work/bjuncek/AVA_actions/data/train/2qQs3Y9OJX0.mkv\n",
      "[]3_VjIRdXVdM.mkv /work/bjuncek/AVA_actions/data/train/3_VjIRdXVdM.mkv\n",
      "[]32HR3MnDZ8g.mp4 /work/bjuncek/AVA_actions/data/train/32HR3MnDZ8g.mp4\n",
      "[]3IOE-Q3UWdA.mp4 /work/bjuncek/AVA_actions/data/train/3IOE-Q3UWdA.mp4\n",
      "[]4gVsDd8PV9U.mp4 /work/bjuncek/AVA_actions/data/train/4gVsDd8PV9U.mp4\n",
      "[]4k-rTF3oZKw.mp4 /work/bjuncek/AVA_actions/data/train/4k-rTF3oZKw.mp4\n",
      "[]4Y5qi1gD2Sw.mkv /work/bjuncek/AVA_actions/data/train/4Y5qi1gD2Sw.mkv\n",
      "[]4ZpjKfu6Cl8.mkv /work/bjuncek/AVA_actions/data/train/4ZpjKfu6Cl8.mkv\n",
      "[]5LrOQEt_XVM.mp4 /work/bjuncek/AVA_actions/data/train/5LrOQEt_XVM.mp4\n",
      "[]5milLu-6bWI.mp4 /work/bjuncek/AVA_actions/data/train/5milLu-6bWI.mp4\n",
      "[]5MxjqHfkWFI.mkv /work/bjuncek/AVA_actions/data/train/5MxjqHfkWFI.mkv\n",
      "[]5YPjcdLbs5g.mkv /work/bjuncek/AVA_actions/data/train/5YPjcdLbs5g.mkv\n",
      "[]7g37N3eoQ9s.mkv /work/bjuncek/AVA_actions/data/train/7g37N3eoQ9s.mkv\n",
      "[]7nHkh4sP5Ks.mkv /work/bjuncek/AVA_actions/data/train/7nHkh4sP5Ks.mkv\n",
      "[]7YpF6DntOYw.mkv /work/bjuncek/AVA_actions/data/train/7YpF6DntOYw.mkv\n",
      "[]8aMv-ZGD4ic.mkv /work/bjuncek/AVA_actions/data/train/8aMv-ZGD4ic.mkv\n",
      "[]8JSxLhDMGtE.mkv /work/bjuncek/AVA_actions/data/train/8JSxLhDMGtE.mkv\n",
      "[]8nO5FFbIAog.webm /work/bjuncek/AVA_actions/data/train/8nO5FFbIAog.webm\n",
      "[]8VZEwOCQ8bc.mkv /work/bjuncek/AVA_actions/data/train/8VZEwOCQ8bc.mkv\n",
      "[]9bK05eBt1GM.mp4 /work/bjuncek/AVA_actions/data/train/9bK05eBt1GM.mp4\n",
      "[]9eAOr_ttXp0.mkv /work/bjuncek/AVA_actions/data/train/9eAOr_ttXp0.mkv\n",
      "[]9HOMUW7QNFc.mkv /work/bjuncek/AVA_actions/data/train/9HOMUW7QNFc.mkv\n",
      "[]9IF8uTRrWAM.mkv /work/bjuncek/AVA_actions/data/train/9IF8uTRrWAM.mkv\n",
      "[]9mLYmkonWZQ.mkv /work/bjuncek/AVA_actions/data/train/9mLYmkonWZQ.mkv\n",
      "[]9QbzS8bZXFE.mkv /work/bjuncek/AVA_actions/data/train/9QbzS8bZXFE.mkv\n",
      "[]9Rcxr3IEX4E.mkv /work/bjuncek/AVA_actions/data/train/9Rcxr3IEX4E.mkv\n",
      "[]9tyiDEYiWiA.mkv /work/bjuncek/AVA_actions/data/train/9tyiDEYiWiA.mkv\n",
      "[]aDEYi1OG0vU.mkv /work/bjuncek/AVA_actions/data/train/aDEYi1OG0vU.mkv\n",
      "[]aMYcLyh9OhU.mkv /work/bjuncek/AVA_actions/data/train/aMYcLyh9OhU.mkv\n",
      "[]AN07xQokfiE.mp4 /work/bjuncek/AVA_actions/data/train/AN07xQokfiE.mp4\n",
      "[]aRbLw-dU2XY.mp4 /work/bjuncek/AVA_actions/data/train/aRbLw-dU2XY.mp4\n",
      "[]ax3q-RkVIt4.mp4 /work/bjuncek/AVA_actions/data/train/ax3q-RkVIt4.mp4\n",
      "[]"
     ]
    },
    {
     "name": "stderr",
     "output_type": "stream",
     "text": [
      "IOPub data rate exceeded.\n",
      "The notebook server will temporarily stop sending output\n",
      "to the client in order to avoid crashing it.\n",
      "To change this limit, set the config variable\n",
      "`--NotebookApp.iopub_data_rate_limit`.\n",
      "\n",
      "Current values:\n",
      "NotebookApp.iopub_data_rate_limit=1000000.0 (bytes/sec)\n",
      "NotebookApp.rate_limit_window=3.0 (secs)\n",
      "\n"
     ]
    },
    {
     "name": "stdout",
     "output_type": "stream",
     "text": [
      "[]C3qk4yAMANk.mkv /work/bjuncek/AVA_actions/data/train/C3qk4yAMANk.mkv\n",
      "[]c9pEMjPT16M.webm /work/bjuncek/AVA_actions/data/train/c9pEMjPT16M.webm\n",
      "[]cc4y-yYm5Ao.mkv /work/bjuncek/AVA_actions/data/train/cc4y-yYm5Ao.mkv\n",
      "[]CG98XdYsgrA.mkv /work/bjuncek/AVA_actions/data/train/CG98XdYsgrA.mkv\n",
      "[]cKA-qeZuH_w.mkv /work/bjuncek/AVA_actions/data/train/cKA-qeZuH_w.mkv\n",
      "[]cLiJgvrDlWw.mp4 /work/bjuncek/AVA_actions/data/train/cLiJgvrDlWw.mp4\n",
      "[]CrlfWnsS7ac.mkv /work/bjuncek/AVA_actions/data/train/CrlfWnsS7ac.mkv\n",
      "[]cWYJHb25EVs.mp4 /work/bjuncek/AVA_actions/data/train/cWYJHb25EVs.mp4\n",
      "[]"
     ]
    },
    {
     "name": "stderr",
     "output_type": "stream",
     "text": [
      "IOPub data rate exceeded.\n",
      "The notebook server will temporarily stop sending output\n",
      "to the client in order to avoid crashing it.\n",
      "To change this limit, set the config variable\n",
      "`--NotebookApp.iopub_data_rate_limit`.\n",
      "\n",
      "Current values:\n",
      "NotebookApp.iopub_data_rate_limit=1000000.0 (bytes/sec)\n",
      "NotebookApp.rate_limit_window=3.0 (secs)\n",
      "\n"
     ]
    },
    {
     "name": "stdout",
     "output_type": "stream",
     "text": [
      "[]Gfdg_GcaNe8.mkv /work/bjuncek/AVA_actions/data/train/Gfdg_GcaNe8.mkv\n",
      "[]gjasEUDkbuc.mkv /work/bjuncek/AVA_actions/data/train/gjasEUDkbuc.mkv\n",
      "[]gjdgj04FzR0.mp4 /work/bjuncek/AVA_actions/data/train/gjdgj04FzR0.mp4\n",
      "[]GozLjpMNADg.mkv /work/bjuncek/AVA_actions/data/train/GozLjpMNADg.mkv\n",
      "[]gqmmpoO1JrY.mkv /work/bjuncek/AVA_actions/data/train/gqmmpoO1JrY.mkv\n",
      "[]"
     ]
    },
    {
     "name": "stderr",
     "output_type": "stream",
     "text": [
      "IOPub data rate exceeded.\n",
      "The notebook server will temporarily stop sending output\n",
      "to the client in order to avoid crashing it.\n",
      "To change this limit, set the config variable\n",
      "`--NotebookApp.iopub_data_rate_limit`.\n",
      "\n",
      "Current values:\n",
      "NotebookApp.iopub_data_rate_limit=1000000.0 (bytes/sec)\n",
      "NotebookApp.rate_limit_window=3.0 (secs)\n",
      "\n"
     ]
    },
    {
     "name": "stdout",
     "output_type": "stream",
     "text": [
      "[]Hi8QeP_VPu0.mkv /work/bjuncek/AVA_actions/data/train/Hi8QeP_VPu0.mkv\n",
      "[]HJzgJ9ZjvJk.mkv /work/bjuncek/AVA_actions/data/train/HJzgJ9ZjvJk.mkv\n",
      "[]HKjR70GCRPE.mp4 /work/bjuncek/AVA_actions/data/train/HKjR70GCRPE.mp4\n",
      "[]HTYT2vF-j_w.mkv /work/bjuncek/AVA_actions/data/train/HTYT2vF-j_w.mkv\n",
      "[]HV0H6oc4Kvs.mkv /work/bjuncek/AVA_actions/data/train/HV0H6oc4Kvs.mkv\n",
      "[]HVAmkvLrthQ.mkv /work/bjuncek/AVA_actions/data/train/HVAmkvLrthQ.mkv\n",
      "[]HymKCzQJbB8.mkv /work/bjuncek/AVA_actions/data/train/HymKCzQJbB8.mkv\n",
      "[]I8j6Xq2B5ys.mp4 /work/bjuncek/AVA_actions/data/train/I8j6Xq2B5ys.mp4\n",
      "[]"
     ]
    }
   ],
   "source": [
    "data_dir = os.path.join(root_dir, \"data\")\n",
    "os.makedirs(data_dir, exist_ok=True)\n",
    "for split in [\"train\", \"val\", \"test\"]:\n",
    "    data_dl = os.path.join(data_dir, split)\n",
    "    os.makedirs(data_dl, exist_ok=True)\n",
    "    path = os.path.join(root_dir,f\"ava_{split}_v2.2.csv\")\n",
    "    df = pd.read_csv(path, names=[\"video_id\", \"middle_frame_timestamp\", \"x1\", \"y1\", \"x2\", \"y2\", \"action_id\", \"person_id\"])\n",
    "    if split in ['train', 'val']:\n",
    "        files = pd.read_csv(trainval_path, names=['path'])\n",
    "        url_template = \"https://s3.amazonaws.com/ava-dataset/trainval/{file}\"\n",
    "    \n",
    "    for file in files.path:\n",
    "        if file.split(\".\")[0] in df.video_id.unique():\n",
    "            out_path= os.path.join(data_dl, file)\n",
    "            if not os.path.exists(out_path):\n",
    "                wget.download(url=url_template.format(file=file), out=out_path, bar=wget.bar_thermometer)\n",
    "        else:\n",
    "            continue\n",
    "#             "
   ]
  },
  {
   "cell_type": "code",
   "execution_count": null,
   "metadata": {},
   "outputs": [],
   "source": []
  }
 ],
 "metadata": {
  "kernelspec": {
   "display_name": "Python 3",
   "language": "python",
   "name": "python3"
  },
  "language_info": {
   "codemirror_mode": {
    "name": "ipython",
    "version": 3
   },
   "file_extension": ".py",
   "mimetype": "text/x-python",
   "name": "python",
   "nbconvert_exporter": "python",
   "pygments_lexer": "ipython3",
   "version": "3.7.6"
  }
 },
 "nbformat": 4,
 "nbformat_minor": 4
}
